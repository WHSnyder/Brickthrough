{
 "cells": [
  {
   "cell_type": "code",
   "execution_count": 1,
   "metadata": {},
   "outputs": [],
   "source": [
    "import numpy as np\n",
    "import cv2\n",
    "from matplotlib import pyplot as plt\n",
    "import sys\n",
    "import math\n",
    "import json\n",
    "import re\n",
    "\n",
    "hf = \"/home\"\n",
    "sys.path.append(hf+\"/will/projects/legoproj\")\n",
    "sys.path.append(hf+\"/will/projects/training/dataprep\")\n",
    "\n",
    "import feature_utils as fu\n",
    "from cvscripts import cv_utils as cvu\n",
    "\n",
    "%matplotlib inline\n",
    "\n",
    "import tensorflow as tf\n",
    "\n",
    "from tensorflow.compat.v1 import ConfigProto\n",
    "from tensorflow.compat.v1 import Session\n",
    "\n",
    "config = ConfigProto()\n",
    "config.gpu_options.allow_growth = True\n",
    "session = Session(config=config)\n",
    "\n",
    "import keras\n",
    "from keras.models import load_model\n",
    "\n",
    "\n",
    "def getObjFromHue(hue,dset):\n",
    "    hue = int(round(hue/5))\n",
    "    name = dset[\"ids\"][str(hue)]\n",
    "    if (\"WingR\" in name or \"WingL\" in name):\n",
    "        return name\n",
    "    return None"
   ]
  },
  {
   "cell_type": "code",
   "execution_count": 13,
   "metadata": {},
   "outputs": [
    {
     "name": "stdout",
     "output_type": "stream",
     "text": [
      "[[169.71852943   0.         256.80383098]\n",
      " [  0.         115.33817545 260.3110781 ]\n",
      " [  0.           0.           1.        ]]\n"
     ]
    }
   ],
   "source": [
    "datapath = \"/home/will/projects/legoproj/data/kpts_dset_5/\"\n",
    "data = fu.dictFromJson(datapath + \"dset.json\")\n",
    "i = 65\n",
    "tag = \"{:0>4}\".format(i)\n",
    "maskpath = datapath + \"{}_a.png\".format(tag)\n",
    "\n",
    "mask = cv2.imread(maskpath)\n",
    "masks = cvu.separate(mask)\n",
    "\n",
    "for hue in masks:\n",
    "    objname = getObjFromHue(hue,data)\n",
    "    if objname:\n",
    "        objclass = objname.split(\".\")[0]\n",
    "        if objclass == \"WingL\":\n",
    "            wing = objname\n",
    "            break\n",
    "            \n",
    "\n",
    "studs = fu.get_object_studs(objclass)\n",
    "for stud in studs:\n",
    "    stud.append(1.0)\n",
    "    \n",
    "projmat = fu.matrix_from_string(data[\"projection\"])\n",
    "modelmat = fu.matrix_from_string(data[\"objects\"][objname][\"modelmat\"])\n",
    "viewmat = fu.matrix_from_string(data[\"viewmats\"][i])\n",
    "\n",
    "screenverts = fu.verts_to_screen(modelmat, viewmat, projmat, studs, filter=False)\n",
    "\n",
    "\n",
    "screenverts[:,0:2] = fu.toNDC(screenverts[:,0:2], (512,512))\n",
    "\n",
    "overts = np.array(studs, dtype=np.float32)[:,0:3]\n",
    "overts[:,2] = 0.0\n",
    "sverts = np.array(screenverts, dtype=np.float32)[:,0:2]\n",
    "    \n",
    "ret, mtx, dist, rvecs, tvecs = cv2.calibrateCamera([overts.astype('float32')], [sverts.astype('float32')], (512,512), None, None)\n",
    "\n",
    "print(mtx)\n",
    "\n",
    "#[[576.25736016   0.         248.52187883]\n",
    "# [  0.         574.53464108 245.49564339]\n",
    "# [  0.           0.           1.        ]]"
   ]
  },
  {
   "cell_type": "code",
   "execution_count": null,
   "metadata": {},
   "outputs": [],
   "source": [
    "model = load_model(\"/home/will/projects/legoproj/nets/tstgeom_poleeng_bayes_fr.h5\",compile=False)\n",
    "\n",
    "i = 65\n",
    "tag = \"{:0>4}\".format(i)\n",
    "\n",
    "img = cv2.imread(datapath + \"{}_a.png\".format(tag),0)        \n",
    "img = cv2.resize(img,(256,256),interpolation=cv2.INTER_LINEAR)\n",
    "geomraw = cv2.imread(datapath + \"geom/{}_geom.png\".format(tag))\n",
    "\n",
    "pred = model.predict( np.reshape(img, (1,256,256,1)).astype('float32')/255.0 )\n",
    "pred = (255.0 * np.reshape((1.0+pred)/2.0, (256,256,4))).astype(np.uint8)\n",
    "\n",
    "geom_pred = pred[:,:,0:3].astype(np.uint8)\n",
    "confidence = (255 - np.reshape( pred[:,:,3:], (256,256) )).astype(np.uint8)\n",
    "\n",
    "\n",
    "\n",
    "\n"
   ]
  },
  {
   "cell_type": "code",
   "execution_count": null,
   "metadata": {},
   "outputs": [],
   "source": [
    "dist_coeffs = np.zeros((4,1))\n",
    "ocoordscw = np.reshape(ocoordscw, (4,1,3))\n",
    "scoordscw = np.reshape(scoordscw, (4,1,2))\n",
    "ocoordscw = ocoordscw.astype(np.float32)\n",
    "scoordscw = scoordscw.astype(np.float32)\n",
    "\n",
    "#ret, mtx, dist, rvecs, tvecs = cv2.calibrateCamera(ocoordscw, scoordscw, (512, 512),None,None)\n",
    "r = cv2.solvePnPRansac(ocoordscw, scoordscw, mtx, dist, flags=(cv2.SOLVEPNP_ITERATIVE))\n",
    "#mat, jac = cv2.Rodrigues(r[1])\n",
    "#mat.append([0.0,0.0,0.0,1])\n",
    "r"
   ]
  },
  {
   "cell_type": "code",
   "execution_count": null,
   "metadata": {},
   "outputs": [],
   "source": [
    "rvec = r[1]\n",
    "tvec = r[2]\n",
    "tvec"
   ]
  },
  {
   "cell_type": "code",
   "execution_count": null,
   "metadata": {},
   "outputs": [],
   "source": []
  }
 ],
 "metadata": {
  "kernelspec": {
   "display_name": "Python 3",
   "language": "python",
   "name": "python3"
  },
  "language_info": {
   "codemirror_mode": {
    "name": "ipython",
    "version": 3
   },
   "file_extension": ".py",
   "mimetype": "text/x-python",
   "name": "python",
   "nbconvert_exporter": "python",
   "pygments_lexer": "ipython3",
   "version": "3.6.9"
  }
 },
 "nbformat": 4,
 "nbformat_minor": 2
}
