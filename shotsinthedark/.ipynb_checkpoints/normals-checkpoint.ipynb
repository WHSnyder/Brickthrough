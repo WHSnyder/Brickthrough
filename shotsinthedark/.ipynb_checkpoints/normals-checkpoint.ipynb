{
 "cells": [
  {
   "cell_type": "markdown",
   "metadata": {},
   "source": [
    "#  Radio Frequency Interference mitigation using deep convolutional neural networks\n",
    "\n",
    "### This example demonstrates how tf_unet is trained on the 'Bleien Galactic Survey data'. \n",
    "\n",
    "To create the training data the SEEK package (https://github.com/cosmo-ethz/seek) has to be installed"
   ]
  },
  {
   "cell_type": "code",
   "execution_count": 1,
   "metadata": {},
   "outputs": [
    {
     "name": "stderr",
     "output_type": "stream",
     "text": [
      "/home/will/.local/lib/python3.6/site-packages/tensorflow/python/framework/dtypes.py:516: FutureWarning: Passing (type, 1) or '1type' as a synonym of type is deprecated; in a future version of numpy, it will be understood as (type, (1,)) / '(1,)type'.\n",
      "  _np_qint8 = np.dtype([(\"qint8\", np.int8, 1)])\n",
      "/home/will/.local/lib/python3.6/site-packages/tensorflow/python/framework/dtypes.py:517: FutureWarning: Passing (type, 1) or '1type' as a synonym of type is deprecated; in a future version of numpy, it will be understood as (type, (1,)) / '(1,)type'.\n",
      "  _np_quint8 = np.dtype([(\"quint8\", np.uint8, 1)])\n",
      "/home/will/.local/lib/python3.6/site-packages/tensorflow/python/framework/dtypes.py:518: FutureWarning: Passing (type, 1) or '1type' as a synonym of type is deprecated; in a future version of numpy, it will be understood as (type, (1,)) / '(1,)type'.\n",
      "  _np_qint16 = np.dtype([(\"qint16\", np.int16, 1)])\n",
      "/home/will/.local/lib/python3.6/site-packages/tensorflow/python/framework/dtypes.py:519: FutureWarning: Passing (type, 1) or '1type' as a synonym of type is deprecated; in a future version of numpy, it will be understood as (type, (1,)) / '(1,)type'.\n",
      "  _np_quint16 = np.dtype([(\"quint16\", np.uint16, 1)])\n",
      "/home/will/.local/lib/python3.6/site-packages/tensorflow/python/framework/dtypes.py:520: FutureWarning: Passing (type, 1) or '1type' as a synonym of type is deprecated; in a future version of numpy, it will be understood as (type, (1,)) / '(1,)type'.\n",
      "  _np_qint32 = np.dtype([(\"qint32\", np.int32, 1)])\n",
      "/home/will/.local/lib/python3.6/site-packages/tensorflow/python/framework/dtypes.py:525: FutureWarning: Passing (type, 1) or '1type' as a synonym of type is deprecated; in a future version of numpy, it will be understood as (type, (1,)) / '(1,)type'.\n",
      "  np_resource = np.dtype([(\"resource\", np.ubyte, 1)])\n",
      "/home/will/.local/lib/python3.6/site-packages/tensorboard/compat/tensorflow_stub/dtypes.py:541: FutureWarning: Passing (type, 1) or '1type' as a synonym of type is deprecated; in a future version of numpy, it will be understood as (type, (1,)) / '(1,)type'.\n",
      "  _np_qint8 = np.dtype([(\"qint8\", np.int8, 1)])\n",
      "/home/will/.local/lib/python3.6/site-packages/tensorboard/compat/tensorflow_stub/dtypes.py:542: FutureWarning: Passing (type, 1) or '1type' as a synonym of type is deprecated; in a future version of numpy, it will be understood as (type, (1,)) / '(1,)type'.\n",
      "  _np_quint8 = np.dtype([(\"quint8\", np.uint8, 1)])\n",
      "/home/will/.local/lib/python3.6/site-packages/tensorboard/compat/tensorflow_stub/dtypes.py:543: FutureWarning: Passing (type, 1) or '1type' as a synonym of type is deprecated; in a future version of numpy, it will be understood as (type, (1,)) / '(1,)type'.\n",
      "  _np_qint16 = np.dtype([(\"qint16\", np.int16, 1)])\n",
      "/home/will/.local/lib/python3.6/site-packages/tensorboard/compat/tensorflow_stub/dtypes.py:544: FutureWarning: Passing (type, 1) or '1type' as a synonym of type is deprecated; in a future version of numpy, it will be understood as (type, (1,)) / '(1,)type'.\n",
      "  _np_quint16 = np.dtype([(\"quint16\", np.uint16, 1)])\n",
      "/home/will/.local/lib/python3.6/site-packages/tensorboard/compat/tensorflow_stub/dtypes.py:545: FutureWarning: Passing (type, 1) or '1type' as a synonym of type is deprecated; in a future version of numpy, it will be understood as (type, (1,)) / '(1,)type'.\n",
      "  _np_qint32 = np.dtype([(\"qint32\", np.int32, 1)])\n",
      "/home/will/.local/lib/python3.6/site-packages/tensorboard/compat/tensorflow_stub/dtypes.py:550: FutureWarning: Passing (type, 1) or '1type' as a synonym of type is deprecated; in a future version of numpy, it will be understood as (type, (1,)) / '(1,)type'.\n",
      "  np_resource = np.dtype([(\"resource\", np.ubyte, 1)])\n"
     ]
    }
   ],
   "source": [
    "%matplotlib inline\n",
    "import matplotlib.pyplot as plt\n",
    "import matplotlib\n",
    "import numpy as np\n",
    "import glob\n",
    "import sys\n",
    "#plt.rcParams['image.cmap'] = 'rgb'\n",
    "sys.path.append(\"/home/will/projects/legoproj/unetfalse\")\n",
    "sys.path.append(\"/home/will/projects/legoproj/unetfalse/tf_unet\")\n",
    "\n",
    "import tensorflow\n",
    "from tensorflow.compat.v1 import ConfigProto\n",
    "from tensorflow.compat.v1 import InteractiveSession\n",
    "\n",
    "config = ConfigProto()\n",
    "config.gpu_options.allow_growth = True\n",
    "session = InteractiveSession(config=config)"
   ]
  },
  {
   "cell_type": "markdown",
   "metadata": {},
   "source": [
    "## setting up the unet"
   ]
  },
  {
   "cell_type": "code",
   "execution_count": 2,
   "metadata": {
    "jupyter": {
     "outputs_hidden": false
    },
    "scrolled": true
   },
   "outputs": [
    {
     "data": {
      "text/plain": [
       "tf_unet.image_util.NormalsDataProvider"
      ]
     },
     "execution_count": 2,
     "metadata": {},
     "output_type": "execute_result"
    }
   ],
   "source": [
    "from tf_unet import util as tfu\n",
    "from tf_unet import unet\n",
    "from tf_unet import image_util as imu\n",
    "imu.NormalsDataProvider\n"
   ]
  },
  {
   "cell_type": "code",
   "execution_count": 3,
   "metadata": {
    "jupyter": {
     "outputs_hidden": false
    }
   },
   "outputs": [],
   "source": [
    "files = glob.glob('/home/will/projects/legoproj/data/normz/*')"
   ]
  },
  {
   "cell_type": "code",
   "execution_count": 4,
   "metadata": {
    "jupyter": {
     "outputs_hidden": false
    }
   },
   "outputs": [
    {
     "name": "stdout",
     "output_type": "stream",
     "text": [
      "Number of files used: 9337\n",
      "Number of channels: 3\n",
      "Number of classes: 3\n",
      "WARNING:tensorflow:From /home/will/projects/legoproj/unetfalse/tf_unet/unet.py:189: The name tf.reset_default_graph is deprecated. Please use tf.compat.v1.reset_default_graph instead.\n",
      "\n"
     ]
    },
    {
     "name": "stderr",
     "output_type": "stream",
     "text": [
      "2019-11-12 12:09:06,960 From /home/will/projects/legoproj/unetfalse/tf_unet/unet.py:189: The name tf.reset_default_graph is deprecated. Please use tf.compat.v1.reset_default_graph instead.\n",
      "\n"
     ]
    },
    {
     "name": "stdout",
     "output_type": "stream",
     "text": [
      "WARNING:tensorflow:From /home/will/projects/legoproj/unetfalse/tf_unet/unet.py:194: The name tf.placeholder is deprecated. Please use tf.compat.v1.placeholder instead.\n",
      "\n"
     ]
    },
    {
     "name": "stderr",
     "output_type": "stream",
     "text": [
      "2019-11-12 12:09:06,961 From /home/will/projects/legoproj/unetfalse/tf_unet/unet.py:194: The name tf.placeholder is deprecated. Please use tf.compat.v1.placeholder instead.\n",
      "\n",
      "2019-11-12 12:09:06,965 Layers 3, features 32, filter size 3x3, pool size: 2x2\n"
     ]
    },
    {
     "name": "stdout",
     "output_type": "stream",
     "text": [
      "WARNING:tensorflow:From /home/will/projects/legoproj/unetfalse/tf_unet/layers.py:25: The name tf.truncated_normal is deprecated. Please use tf.random.truncated_normal instead.\n",
      "\n"
     ]
    },
    {
     "name": "stderr",
     "output_type": "stream",
     "text": [
      "2019-11-12 12:09:06,979 From /home/will/projects/legoproj/unetfalse/tf_unet/layers.py:25: The name tf.truncated_normal is deprecated. Please use tf.random.truncated_normal instead.\n",
      "\n"
     ]
    },
    {
     "name": "stdout",
     "output_type": "stream",
     "text": [
      "WARNING:tensorflow:From /home/will/projects/legoproj/unetfalse/tf_unet/layers.py:39: calling dropout (from tensorflow.python.ops.nn_ops) with keep_prob is deprecated and will be removed in a future version.\n",
      "Instructions for updating:\n",
      "Please use `rate` instead of `keep_prob`. Rate should be set to `rate = 1 - keep_prob`.\n"
     ]
    },
    {
     "name": "stderr",
     "output_type": "stream",
     "text": [
      "2019-11-12 12:09:07,002 From /home/will/projects/legoproj/unetfalse/tf_unet/layers.py:39: calling dropout (from tensorflow.python.ops.nn_ops) with keep_prob is deprecated and will be removed in a future version.\n",
      "Instructions for updating:\n",
      "Please use `rate` instead of `keep_prob`. Rate should be set to `rate = 1 - keep_prob`.\n"
     ]
    },
    {
     "name": "stdout",
     "output_type": "stream",
     "text": [
      "WARNING:tensorflow:From /home/will/projects/legoproj/unetfalse/tf_unet/layers.py:48: The name tf.nn.max_pool is deprecated. Please use tf.nn.max_pool2d instead.\n",
      "\n"
     ]
    },
    {
     "name": "stderr",
     "output_type": "stream",
     "text": [
      "2019-11-12 12:09:07,024 From /home/will/projects/legoproj/unetfalse/tf_unet/layers.py:48: The name tf.nn.max_pool is deprecated. Please use tf.nn.max_pool2d instead.\n",
      "\n"
     ]
    },
    {
     "name": "stdout",
     "output_type": "stream",
     "text": [
      "WARNING:tensorflow:From /home/will/projects/legoproj/unetfalse/tf_unet/unet.py:151: The name tf.summary.image is deprecated. Please use tf.compat.v1.summary.image instead.\n",
      "\n"
     ]
    },
    {
     "name": "stderr",
     "output_type": "stream",
     "text": [
      "2019-11-12 12:09:07,270 From /home/will/projects/legoproj/unetfalse/tf_unet/unet.py:151: The name tf.summary.image is deprecated. Please use tf.compat.v1.summary.image instead.\n",
      "\n"
     ]
    },
    {
     "name": "stdout",
     "output_type": "stream",
     "text": [
      "WARNING:tensorflow:From /home/will/projects/legoproj/unetfalse/tf_unet/unet.py:161: The name tf.summary.histogram is deprecated. Please use tf.compat.v1.summary.histogram instead.\n",
      "\n"
     ]
    },
    {
     "name": "stderr",
     "output_type": "stream",
     "text": [
      "2019-11-12 12:09:07,469 From /home/will/projects/legoproj/unetfalse/tf_unet/unet.py:161: The name tf.summary.histogram is deprecated. Please use tf.compat.v1.summary.histogram instead.\n",
      "\n"
     ]
    },
    {
     "name": "stdout",
     "output_type": "stream",
     "text": [
      "WARNING:tensorflow:From /home/will/projects/legoproj/unetfalse/tf_unet/layers.py:68: The name tf.log is deprecated. Please use tf.math.log instead.\n",
      "\n"
     ]
    },
    {
     "name": "stderr",
     "output_type": "stream",
     "text": [
      "2019-11-12 12:09:07,711 From /home/will/projects/legoproj/unetfalse/tf_unet/layers.py:68: The name tf.log is deprecated. Please use tf.math.log instead.\n",
      "\n"
     ]
    }
   ],
   "source": [
    "data_provider = imu.NormalsDataProvider(\"/home/will/projects/legoproj/data/normz/*\")\n",
    "\n",
    "net = unet.Unet(3,3,cost_kwargs=dict(regularizer=0.001))\n"
   ]
  },
  {
   "cell_type": "markdown",
   "metadata": {},
   "source": [
    "## training the network\n",
    "only one epoch. For good results many more are neccessary"
   ]
  },
  {
   "cell_type": "code",
   "execution_count": 5,
   "metadata": {
    "jupyter": {
     "outputs_hidden": false
    }
   },
   "outputs": [
    {
     "name": "stdout",
     "output_type": "stream",
     "text": [
      "WARNING:tensorflow:From /home/will/projects/legoproj/unetfalse/tf_unet/unet.py:364: The name tf.summary.scalar is deprecated. Please use tf.compat.v1.summary.scalar instead.\n",
      "\n"
     ]
    },
    {
     "name": "stderr",
     "output_type": "stream",
     "text": [
      "2019-11-12 12:09:07,746 From /home/will/projects/legoproj/unetfalse/tf_unet/unet.py:364: The name tf.summary.scalar is deprecated. Please use tf.compat.v1.summary.scalar instead.\n",
      "\n"
     ]
    },
    {
     "name": "stdout",
     "output_type": "stream",
     "text": [
      "WARNING:tensorflow:From /home/will/projects/legoproj/unetfalse/tf_unet/unet.py:337: The name tf.train.exponential_decay is deprecated. Please use tf.compat.v1.train.exponential_decay instead.\n",
      "\n"
     ]
    },
    {
     "name": "stderr",
     "output_type": "stream",
     "text": [
      "2019-11-12 12:09:07,749 From /home/will/projects/legoproj/unetfalse/tf_unet/unet.py:337: The name tf.train.exponential_decay is deprecated. Please use tf.compat.v1.train.exponential_decay instead.\n",
      "\n"
     ]
    },
    {
     "name": "stdout",
     "output_type": "stream",
     "text": [
      "WARNING:tensorflow:From /home/will/projects/legoproj/unetfalse/tf_unet/unet.py:343: The name tf.train.MomentumOptimizer is deprecated. Please use tf.compat.v1.train.MomentumOptimizer instead.\n",
      "\n"
     ]
    },
    {
     "name": "stderr",
     "output_type": "stream",
     "text": [
      "2019-11-12 12:09:07,754 From /home/will/projects/legoproj/unetfalse/tf_unet/unet.py:343: The name tf.train.MomentumOptimizer is deprecated. Please use tf.compat.v1.train.MomentumOptimizer instead.\n",
      "\n"
     ]
    },
    {
     "name": "stdout",
     "output_type": "stream",
     "text": [
      "WARNING:tensorflow:From /home/will/projects/legoproj/unetfalse/tf_unet/unet.py:371: The name tf.summary.merge_all is deprecated. Please use tf.compat.v1.summary.merge_all instead.\n",
      "\n"
     ]
    },
    {
     "name": "stderr",
     "output_type": "stream",
     "text": [
      "2019-11-12 12:09:08,227 From /home/will/projects/legoproj/unetfalse/tf_unet/unet.py:371: The name tf.summary.merge_all is deprecated. Please use tf.compat.v1.summary.merge_all instead.\n",
      "\n"
     ]
    },
    {
     "name": "stdout",
     "output_type": "stream",
     "text": [
      "WARNING:tensorflow:From /home/will/projects/legoproj/unetfalse/tf_unet/unet.py:372: The name tf.global_variables_initializer is deprecated. Please use tf.compat.v1.global_variables_initializer instead.\n",
      "\n"
     ]
    },
    {
     "name": "stderr",
     "output_type": "stream",
     "text": [
      "2019-11-12 12:09:08,231 From /home/will/projects/legoproj/unetfalse/tf_unet/unet.py:372: The name tf.global_variables_initializer is deprecated. Please use tf.compat.v1.global_variables_initializer instead.\n",
      "\n",
      "2019-11-12 12:09:08,233 Removing '/home/will/projects/legoproj/shotsinthedark/prediction'\n",
      "2019-11-12 12:09:08,234 Removing '/home/will/projects/legoproj/shotsinthedark/data/model'\n",
      "2019-11-12 12:09:08,236 Allocating '/home/will/projects/legoproj/shotsinthedark/prediction'\n",
      "2019-11-12 12:09:08,237 Allocating '/home/will/projects/legoproj/shotsinthedark/data/model'\n",
      "2019-11-12 12:09:10,743 Verification error= 99.2%, loss= 0.2431\n"
     ]
    },
    {
     "name": "stdout",
     "output_type": "stream",
     "text": [
      "WARNING:tensorflow:From /home/will/projects/legoproj/unetfalse/tf_unet/unet.py:429: The name tf.summary.FileWriter is deprecated. Please use tf.compat.v1.summary.FileWriter instead.\n",
      "\n"
     ]
    },
    {
     "name": "stderr",
     "output_type": "stream",
     "text": [
      "2019-11-12 12:09:10,744 From /home/will/projects/legoproj/unetfalse/tf_unet/unet.py:429: The name tf.summary.FileWriter is deprecated. Please use tf.compat.v1.summary.FileWriter instead.\n",
      "\n",
      "2019-11-12 12:09:10,959 Start optimization\n",
      "2019-11-12 12:09:12,958 Iter 0, Minibatch Loss= 0.2545, Training Accuracy= 0.0046, Minibatch error= 99.5%\n",
      "2019-11-12 12:09:13,063 Iter 1, Minibatch Loss= 0.2813, Training Accuracy= 0.0028, Minibatch error= 99.7%\n",
      "2019-11-12 12:09:13,150 Iter 2, Minibatch Loss= 0.2818, Training Accuracy= 0.0027, Minibatch error= 99.7%\n",
      "2019-11-12 12:09:13,247 Iter 3, Minibatch Loss= 0.2716, Training Accuracy= 0.0009, Minibatch error= 99.9%\n",
      "2019-11-12 12:09:13,347 Iter 4, Minibatch Loss= 0.2075, Training Accuracy= 0.0069, Minibatch error= 99.3%\n",
      "2019-11-12 12:09:13,441 Iter 5, Minibatch Loss= 0.2451, Training Accuracy= 0.0068, Minibatch error= 99.3%\n",
      "2019-11-12 12:09:13,533 Iter 6, Minibatch Loss= 0.2676, Training Accuracy= 0.0069, Minibatch error= 99.3%\n",
      "2019-11-12 12:09:13,621 Iter 7, Minibatch Loss= 0.2616, Training Accuracy= 0.0044, Minibatch error= 99.6%\n",
      "2019-11-12 12:09:13,713 Iter 8, Minibatch Loss= 0.2822, Training Accuracy= 0.0023, Minibatch error= 99.8%\n",
      "2019-11-12 12:09:13,803 Iter 9, Minibatch Loss= 0.2720, Training Accuracy= 0.0067, Minibatch error= 99.3%\n",
      "2019-11-12 12:09:13,899 Iter 10, Minibatch Loss= 0.2198, Training Accuracy= 0.0074, Minibatch error= 99.3%\n",
      "2019-11-12 12:09:14,000 Iter 11, Minibatch Loss= 0.1908, Training Accuracy= 0.0081, Minibatch error= 99.2%\n",
      "2019-11-12 12:09:14,108 Iter 12, Minibatch Loss= 0.2810, Training Accuracy= 0.0022, Minibatch error= 99.8%\n",
      "2019-11-12 12:09:14,198 Iter 13, Minibatch Loss= 0.2210, Training Accuracy= 0.0035, Minibatch error= 99.7%\n",
      "2019-11-12 12:09:14,292 Iter 14, Minibatch Loss= 0.2788, Training Accuracy= 0.0023, Minibatch error= 99.8%\n",
      "2019-11-12 12:09:14,379 Iter 15, Minibatch Loss= 0.2841, Training Accuracy= 0.0016, Minibatch error= 99.8%\n",
      "2019-11-12 12:09:14,480 Iter 16, Minibatch Loss= 0.2635, Training Accuracy= 0.0051, Minibatch error= 99.5%\n",
      "2019-11-12 12:09:14,576 Iter 17, Minibatch Loss= 0.2647, Training Accuracy= 0.0039, Minibatch error= 99.6%\n",
      "2019-11-12 12:09:14,669 Iter 18, Minibatch Loss= 0.2054, Training Accuracy= 0.0075, Minibatch error= 99.2%\n",
      "2019-11-12 12:09:14,767 Iter 19, Minibatch Loss= 0.1969, Training Accuracy= 0.0082, Minibatch error= 99.2%\n",
      "2019-11-12 12:09:14,864 Iter 20, Minibatch Loss= 0.2730, Training Accuracy= 0.0043, Minibatch error= 99.6%\n",
      "2019-11-12 12:09:14,954 Iter 21, Minibatch Loss= 0.2824, Training Accuracy= 0.0020, Minibatch error= 99.8%\n",
      "2019-11-12 12:09:15,044 Iter 22, Minibatch Loss= 0.2848, Training Accuracy= 0.0008, Minibatch error= 99.9%\n",
      "2019-11-12 12:09:15,139 Iter 23, Minibatch Loss= 0.2384, Training Accuracy= 0.0054, Minibatch error= 99.5%\n",
      "2019-11-12 12:09:15,236 Iter 24, Minibatch Loss= 0.2640, Training Accuracy= 0.0080, Minibatch error= 99.2%\n",
      "2019-11-12 12:09:15,325 Iter 25, Minibatch Loss= 0.2756, Training Accuracy= 0.0006, Minibatch error= 99.9%\n",
      "2019-11-12 12:09:15,420 Iter 26, Minibatch Loss= 0.2785, Training Accuracy= 0.0034, Minibatch error= 99.7%\n",
      "2019-11-12 12:09:15,509 Iter 27, Minibatch Loss= 0.2841, Training Accuracy= 0.0015, Minibatch error= 99.8%\n",
      "2019-11-12 12:09:15,615 Iter 28, Minibatch Loss= 0.2810, Training Accuracy= 0.0015, Minibatch error= 99.8%\n",
      "2019-11-12 12:09:15,708 Iter 29, Minibatch Loss= 0.2199, Training Accuracy= 0.0053, Minibatch error= 99.5%\n",
      "2019-11-12 12:09:15,806 Iter 30, Minibatch Loss= 0.2834, Training Accuracy= 0.0015, Minibatch error= 99.8%\n",
      "2019-11-12 12:09:15,898 Iter 31, Minibatch Loss= 0.2741, Training Accuracy= 0.0020, Minibatch error= 99.8%\n",
      "2019-11-12 12:09:15,899 Epoch 0, Average loss: -0.5554, learning rate: 0.0000\n",
      "2019-11-12 12:09:15,966 Verification error= 99.3%, loss= 0.2364\n"
     ]
    },
    {
     "name": "stdout",
     "output_type": "stream",
     "text": [
      "WARNING:tensorflow:From /home/will/projects/legoproj/unetfalse/tf_unet/unet.py:293: The name tf.train.Saver is deprecated. Please use tf.compat.v1.train.Saver instead.\n",
      "\n"
     ]
    },
    {
     "name": "stderr",
     "output_type": "stream",
     "text": [
      "2019-11-12 12:09:15,967 From /home/will/projects/legoproj/unetfalse/tf_unet/unet.py:293: The name tf.train.Saver is deprecated. Please use tf.compat.v1.train.Saver instead.\n",
      "\n",
      "2019-11-12 12:09:16,316 Iter 32, Minibatch Loss= 0.2770, Training Accuracy= 0.0014, Minibatch error= 99.9%\n",
      "2019-11-12 12:09:16,411 Iter 33, Minibatch Loss= 0.2789, Training Accuracy= 0.0034, Minibatch error= 99.7%\n",
      "2019-11-12 12:09:16,508 Iter 34, Minibatch Loss= 0.2813, Training Accuracy= 0.0012, Minibatch error= 99.9%\n",
      "2019-11-12 12:09:16,617 Iter 35, Minibatch Loss= 0.2792, Training Accuracy= 0.0022, Minibatch error= 99.8%\n",
      "2019-11-12 12:09:16,713 Iter 36, Minibatch Loss= 0.2852, Training Accuracy= 0.0008, Minibatch error= 99.9%\n",
      "2019-11-12 12:09:16,809 Iter 37, Minibatch Loss= 0.2496, Training Accuracy= 0.0091, Minibatch error= 99.1%\n",
      "2019-11-12 12:09:16,909 Iter 38, Minibatch Loss= 0.2503, Training Accuracy= 0.0037, Minibatch error= 99.6%\n",
      "2019-11-12 12:09:17,010 Iter 39, Minibatch Loss= 0.2824, Training Accuracy= 0.0012, Minibatch error= 99.9%\n",
      "2019-11-12 12:09:17,111 Iter 40, Minibatch Loss= 0.2772, Training Accuracy= 0.0016, Minibatch error= 99.8%\n",
      "2019-11-12 12:09:17,204 Iter 41, Minibatch Loss= 0.2803, Training Accuracy= 0.0016, Minibatch error= 99.8%\n",
      "2019-11-12 12:09:17,296 Iter 42, Minibatch Loss= 0.2865, Training Accuracy= 0.0008, Minibatch error= 99.9%\n",
      "2019-11-12 12:09:17,382 Iter 43, Minibatch Loss= 0.2650, Training Accuracy= 0.0033, Minibatch error= 99.7%\n",
      "2019-11-12 12:09:17,482 Iter 44, Minibatch Loss= 0.2672, Training Accuracy= 0.0027, Minibatch error= 99.7%\n",
      "2019-11-12 12:09:17,577 Iter 45, Minibatch Loss= 0.2833, Training Accuracy= 0.0017, Minibatch error= 99.8%\n",
      "2019-11-12 12:09:17,671 Iter 46, Minibatch Loss= 0.2787, Training Accuracy= 0.0018, Minibatch error= 99.8%\n",
      "2019-11-12 12:09:17,764 Iter 47, Minibatch Loss= 0.2743, Training Accuracy= 0.0040, Minibatch error= 99.6%\n",
      "2019-11-12 12:09:17,862 Iter 48, Minibatch Loss= 0.2527, Training Accuracy= 0.0054, Minibatch error= 99.5%\n",
      "2019-11-12 12:09:17,959 Iter 49, Minibatch Loss= 0.2791, Training Accuracy= 0.0014, Minibatch error= 99.9%\n",
      "2019-11-12 12:09:18,053 Iter 50, Minibatch Loss= 0.2847, Training Accuracy= 0.0003, Minibatch error= 100.0%\n",
      "2019-11-12 12:09:18,150 Iter 51, Minibatch Loss= 0.2684, Training Accuracy= 0.0045, Minibatch error= 99.6%\n",
      "2019-11-12 12:09:18,246 Iter 52, Minibatch Loss= 0.2703, Training Accuracy= 0.0061, Minibatch error= 99.4%\n",
      "2019-11-12 12:09:18,338 Iter 53, Minibatch Loss= 0.2843, Training Accuracy= 0.0014, Minibatch error= 99.9%\n",
      "2019-11-12 12:09:18,439 Iter 54, Minibatch Loss= 0.2749, Training Accuracy= 0.0038, Minibatch error= 99.6%\n",
      "2019-11-12 12:09:18,536 Iter 55, Minibatch Loss= 0.2808, Training Accuracy= 0.0019, Minibatch error= 99.8%\n",
      "2019-11-12 12:09:18,631 Iter 56, Minibatch Loss= 0.2861, Training Accuracy= 0.0000, Minibatch error= 100.0%\n",
      "2019-11-12 12:09:18,729 Iter 57, Minibatch Loss= 0.1843, Training Accuracy= 0.0044, Minibatch error= 99.6%\n",
      "2019-11-12 12:09:18,818 Iter 58, Minibatch Loss= 0.2802, Training Accuracy= 0.0025, Minibatch error= 99.7%\n",
      "2019-11-12 12:09:18,915 Iter 59, Minibatch Loss= 0.2728, Training Accuracy= 0.0050, Minibatch error= 99.5%\n",
      "2019-11-12 12:09:19,015 Iter 60, Minibatch Loss= 0.2781, Training Accuracy= 0.0035, Minibatch error= 99.6%\n",
      "2019-11-12 12:09:19,125 Iter 61, Minibatch Loss= 0.2805, Training Accuracy= 0.0018, Minibatch error= 99.8%\n",
      "2019-11-12 12:09:19,226 Iter 62, Minibatch Loss= 0.2690, Training Accuracy= 0.0020, Minibatch error= 99.8%\n",
      "2019-11-12 12:09:19,321 Iter 63, Minibatch Loss= 0.2696, Training Accuracy= 0.0031, Minibatch error= 99.7%\n",
      "2019-11-12 12:09:19,322 Epoch 1, Average loss: -0.1486, learning rate: 0.0000\n",
      "2019-11-12 12:09:19,384 Verification error= 99.3%, loss= 0.2328\n",
      "2019-11-12 12:09:19,772 Iter 64, Minibatch Loss= 0.2469, Training Accuracy= 0.0045, Minibatch error= 99.5%\n",
      "2019-11-12 12:09:19,868 Iter 65, Minibatch Loss= 0.2710, Training Accuracy= 0.0022, Minibatch error= 99.8%\n",
      "2019-11-12 12:09:19,979 Iter 66, Minibatch Loss= 0.2796, Training Accuracy= 0.0020, Minibatch error= 99.8%\n",
      "2019-11-12 12:09:20,084 Iter 67, Minibatch Loss= 0.2695, Training Accuracy= 0.0020, Minibatch error= 99.8%\n",
      "2019-11-12 12:09:20,177 Iter 68, Minibatch Loss= 0.2762, Training Accuracy= 0.0024, Minibatch error= 99.8%\n",
      "2019-11-12 12:09:20,276 Iter 69, Minibatch Loss= 0.2634, Training Accuracy= 0.0031, Minibatch error= 99.7%\n",
      "2019-11-12 12:09:20,369 Iter 70, Minibatch Loss= 0.2673, Training Accuracy= 0.0035, Minibatch error= 99.6%\n",
      "2019-11-12 12:09:20,471 Iter 71, Minibatch Loss= 0.2753, Training Accuracy= 0.0045, Minibatch error= 99.5%\n",
      "2019-11-12 12:09:20,561 Iter 72, Minibatch Loss= 0.2761, Training Accuracy= 0.0017, Minibatch error= 99.8%\n",
      "2019-11-12 12:09:20,667 Iter 73, Minibatch Loss= 0.2730, Training Accuracy= 0.0037, Minibatch error= 99.6%\n",
      "2019-11-12 12:09:20,760 Iter 74, Minibatch Loss= 0.2828, Training Accuracy= 0.0007, Minibatch error= 99.9%\n",
      "2019-11-12 12:09:20,853 Iter 75, Minibatch Loss= 0.2494, Training Accuracy= 0.0029, Minibatch error= 99.7%\n",
      "2019-11-12 12:09:20,949 Iter 76, Minibatch Loss= 0.2649, Training Accuracy= 0.0021, Minibatch error= 99.8%\n",
      "2019-11-12 12:09:21,041 Iter 77, Minibatch Loss= 0.2769, Training Accuracy= 0.0028, Minibatch error= 99.7%\n",
      "2019-11-12 12:09:21,138 Iter 78, Minibatch Loss= 0.2715, Training Accuracy= 0.0019, Minibatch error= 99.8%\n",
      "2019-11-12 12:09:21,236 Iter 79, Minibatch Loss= 0.2690, Training Accuracy= 0.0020, Minibatch error= 99.8%\n",
      "2019-11-12 12:09:21,334 Iter 80, Minibatch Loss= 0.2539, Training Accuracy= 0.0024, Minibatch error= 99.8%\n",
      "2019-11-12 12:09:21,430 Iter 81, Minibatch Loss= 0.2810, Training Accuracy= 0.0012, Minibatch error= 99.9%\n",
      "2019-11-12 12:09:21,535 Iter 82, Minibatch Loss= 0.2802, Training Accuracy= 0.0017, Minibatch error= 99.8%\n",
      "2019-11-12 12:09:21,626 Iter 83, Minibatch Loss= 0.2848, Training Accuracy= 0.0002, Minibatch error= 100.0%\n",
      "2019-11-12 12:09:21,718 Iter 84, Minibatch Loss= 0.2567, Training Accuracy= 0.0053, Minibatch error= 99.5%\n",
      "2019-11-12 12:09:21,813 Iter 85, Minibatch Loss= 0.2591, Training Accuracy= 0.0045, Minibatch error= 99.6%\n",
      "2019-11-12 12:09:21,924 Iter 86, Minibatch Loss= -0.1086, Training Accuracy= 0.0066, Minibatch error= 99.3%\n",
      "2019-11-12 12:09:22,016 Iter 87, Minibatch Loss= 0.1248, Training Accuracy= 0.0059, Minibatch error= 99.4%\n",
      "2019-11-12 12:09:22,114 Iter 88, Minibatch Loss= 0.2696, Training Accuracy= 0.0019, Minibatch error= 99.8%\n",
      "2019-11-12 12:09:22,206 Iter 89, Minibatch Loss= 0.2580, Training Accuracy= 0.0047, Minibatch error= 99.5%\n",
      "2019-11-12 12:09:22,297 Iter 90, Minibatch Loss= 0.2741, Training Accuracy= 0.0021, Minibatch error= 99.8%\n",
      "2019-11-12 12:09:22,393 Iter 91, Minibatch Loss= 0.2723, Training Accuracy= 0.0021, Minibatch error= 99.8%\n",
      "2019-11-12 12:09:22,484 Iter 92, Minibatch Loss= 0.2755, Training Accuracy= 0.0015, Minibatch error= 99.9%\n",
      "2019-11-12 12:09:22,575 Iter 93, Minibatch Loss= 0.2723, Training Accuracy= 0.0015, Minibatch error= 99.8%\n",
      "2019-11-12 12:09:22,666 Iter 94, Minibatch Loss= 0.2711, Training Accuracy= 0.0032, Minibatch error= 99.7%\n",
      "2019-11-12 12:09:22,763 Iter 95, Minibatch Loss= 0.2821, Training Accuracy= 0.0005, Minibatch error= 99.9%\n",
      "2019-11-12 12:09:22,764 Epoch 2, Average loss: -0.3364, learning rate: 0.0000\n",
      "2019-11-12 12:09:22,830 Verification error= 99.4%, loss= 0.2275\n",
      "2019-11-12 12:09:23,182 Iter 96, Minibatch Loss= 0.2751, Training Accuracy= 0.0028, Minibatch error= 99.7%\n",
      "2019-11-12 12:09:23,275 Iter 97, Minibatch Loss= 0.2778, Training Accuracy= 0.0015, Minibatch error= 99.8%\n",
      "2019-11-12 12:09:23,371 Iter 98, Minibatch Loss= 0.2230, Training Accuracy= 0.0055, Minibatch error= 99.4%\n",
      "2019-11-12 12:09:23,476 Iter 99, Minibatch Loss= 0.2764, Training Accuracy= 0.0025, Minibatch error= 99.8%\n",
      "2019-11-12 12:09:23,573 Iter 100, Minibatch Loss= 0.2778, Training Accuracy= 0.0017, Minibatch error= 99.8%\n",
      "2019-11-12 12:09:23,675 Iter 101, Minibatch Loss= 0.2622, Training Accuracy= 0.0033, Minibatch error= 99.7%\n",
      "2019-11-12 12:09:23,767 Iter 102, Minibatch Loss= 0.2828, Training Accuracy= 0.0003, Minibatch error= 100.0%\n",
      "2019-11-12 12:09:23,872 Iter 103, Minibatch Loss= 0.2787, Training Accuracy= 0.0014, Minibatch error= 99.9%\n",
      "2019-11-12 12:09:23,957 Iter 104, Minibatch Loss= 0.2724, Training Accuracy= 0.0028, Minibatch error= 99.7%\n"
     ]
    },
    {
     "name": "stderr",
     "output_type": "stream",
     "text": [
      "2019-11-12 12:09:24,047 Iter 105, Minibatch Loss= 0.2817, Training Accuracy= 0.0010, Minibatch error= 99.9%\n",
      "2019-11-12 12:09:24,144 Iter 106, Minibatch Loss= 0.2834, Training Accuracy= 0.0001, Minibatch error= 100.0%\n",
      "2019-11-12 12:09:24,236 Iter 107, Minibatch Loss= 0.2798, Training Accuracy= 0.0028, Minibatch error= 99.7%\n",
      "2019-11-12 12:09:24,344 Iter 108, Minibatch Loss= 0.2654, Training Accuracy= 0.0035, Minibatch error= 99.7%\n",
      "2019-11-12 12:09:24,438 Iter 109, Minibatch Loss= 0.2713, Training Accuracy= 0.0040, Minibatch error= 99.6%\n",
      "2019-11-12 12:09:24,527 Iter 110, Minibatch Loss= 0.2785, Training Accuracy= 0.0017, Minibatch error= 99.8%\n",
      "2019-11-12 12:09:24,617 Iter 111, Minibatch Loss= 0.2790, Training Accuracy= 0.0009, Minibatch error= 99.9%\n",
      "2019-11-12 12:09:24,708 Iter 112, Minibatch Loss= 0.2795, Training Accuracy= 0.0011, Minibatch error= 99.9%\n",
      "2019-11-12 12:09:24,800 Iter 113, Minibatch Loss= 0.2616, Training Accuracy= 0.0036, Minibatch error= 99.6%\n",
      "2019-11-12 12:09:24,908 Iter 114, Minibatch Loss= 0.2468, Training Accuracy= 0.0074, Minibatch error= 99.3%\n",
      "2019-11-12 12:09:25,015 Iter 115, Minibatch Loss= 0.2832, Training Accuracy= 0.0003, Minibatch error= 100.0%\n",
      "2019-11-12 12:09:25,109 Iter 116, Minibatch Loss= 0.2722, Training Accuracy= 0.0021, Minibatch error= 99.8%\n",
      "2019-11-12 12:09:25,197 Iter 117, Minibatch Loss= 0.2714, Training Accuracy= 0.0030, Minibatch error= 99.7%\n",
      "2019-11-12 12:09:25,293 Iter 118, Minibatch Loss= 0.2743, Training Accuracy= 0.0015, Minibatch error= 99.9%\n",
      "2019-11-12 12:09:25,389 Iter 119, Minibatch Loss= 0.2503, Training Accuracy= 0.0038, Minibatch error= 99.6%\n",
      "2019-11-12 12:09:25,480 Iter 120, Minibatch Loss= 0.1658, Training Accuracy= 0.0050, Minibatch error= 99.5%\n",
      "2019-11-12 12:09:25,570 Iter 121, Minibatch Loss= 0.2817, Training Accuracy= 0.0004, Minibatch error= 100.0%\n",
      "2019-11-12 12:09:25,654 Iter 122, Minibatch Loss= 0.2763, Training Accuracy= 0.0028, Minibatch error= 99.7%\n",
      "2019-11-12 12:09:25,741 Iter 123, Minibatch Loss= 0.2756, Training Accuracy= 0.0015, Minibatch error= 99.9%\n",
      "2019-11-12 12:09:25,836 Iter 124, Minibatch Loss= 0.0684, Training Accuracy= 0.0084, Minibatch error= 99.2%\n",
      "2019-11-12 12:09:25,932 Iter 125, Minibatch Loss= 0.2772, Training Accuracy= 0.0014, Minibatch error= 99.9%\n",
      "2019-11-12 12:09:26,033 Iter 126, Minibatch Loss= 0.2695, Training Accuracy= 0.0016, Minibatch error= 99.8%\n",
      "2019-11-12 12:09:26,126 Iter 127, Minibatch Loss= 0.2669, Training Accuracy= 0.0027, Minibatch error= 99.7%\n",
      "2019-11-12 12:09:26,127 Epoch 3, Average loss: -0.3331, learning rate: 0.0000\n",
      "2019-11-12 12:09:26,189 Verification error= 99.4%, loss= 0.2227\n",
      "2019-11-12 12:09:26,565 Iter 128, Minibatch Loss= 0.2776, Training Accuracy= 0.0014, Minibatch error= 99.9%\n",
      "2019-11-12 12:09:26,660 Iter 129, Minibatch Loss= 0.2502, Training Accuracy= 0.0038, Minibatch error= 99.6%\n",
      "2019-11-12 12:09:26,762 Iter 130, Minibatch Loss= 0.2660, Training Accuracy= 0.0037, Minibatch error= 99.6%\n",
      "2019-11-12 12:09:26,861 Iter 131, Minibatch Loss= 0.2809, Training Accuracy= 0.0009, Minibatch error= 99.9%\n",
      "2019-11-12 12:09:26,956 Iter 132, Minibatch Loss= 0.2650, Training Accuracy= 0.0030, Minibatch error= 99.7%\n",
      "2019-11-12 12:09:27,045 Iter 133, Minibatch Loss= 0.2719, Training Accuracy= 0.0024, Minibatch error= 99.8%\n",
      "2019-11-12 12:09:27,140 Iter 134, Minibatch Loss= 0.2584, Training Accuracy= 0.0018, Minibatch error= 99.8%\n",
      "2019-11-12 12:09:27,235 Iter 135, Minibatch Loss= 0.2766, Training Accuracy= 0.0020, Minibatch error= 99.8%\n",
      "2019-11-12 12:09:27,329 Iter 136, Minibatch Loss= 0.2794, Training Accuracy= 0.0007, Minibatch error= 99.9%\n",
      "2019-11-12 12:09:27,429 Iter 137, Minibatch Loss= 0.1799, Training Accuracy= 0.0043, Minibatch error= 99.6%\n",
      "2019-11-12 12:09:27,525 Iter 138, Minibatch Loss= 0.2725, Training Accuracy= 0.0020, Minibatch error= 99.8%\n",
      "2019-11-12 12:09:27,612 Iter 139, Minibatch Loss= 0.2698, Training Accuracy= 0.0006, Minibatch error= 99.9%\n",
      "2019-11-12 12:09:27,705 Iter 140, Minibatch Loss= 0.2767, Training Accuracy= 0.0012, Minibatch error= 99.9%\n",
      "2019-11-12 12:09:27,812 Iter 141, Minibatch Loss= 0.2556, Training Accuracy= 0.0047, Minibatch error= 99.5%\n",
      "2019-11-12 12:09:27,909 Iter 142, Minibatch Loss= 0.2313, Training Accuracy= 0.0021, Minibatch error= 99.8%\n",
      "2019-11-12 12:09:28,001 Iter 143, Minibatch Loss= 0.2654, Training Accuracy= 0.0021, Minibatch error= 99.8%\n",
      "2019-11-12 12:09:28,096 Iter 144, Minibatch Loss= 0.2652, Training Accuracy= 0.0051, Minibatch error= 99.5%\n",
      "2019-11-12 12:09:28,193 Iter 145, Minibatch Loss= 0.2769, Training Accuracy= 0.0008, Minibatch error= 99.9%\n",
      "2019-11-12 12:09:28,284 Iter 146, Minibatch Loss= 0.2818, Training Accuracy= 0.0006, Minibatch error= 99.9%\n",
      "2019-11-12 12:09:28,393 Iter 147, Minibatch Loss= 0.2329, Training Accuracy= 0.0062, Minibatch error= 99.4%\n",
      "2019-11-12 12:09:28,478 Iter 148, Minibatch Loss= 0.2804, Training Accuracy= 0.0005, Minibatch error= 100.0%\n",
      "2019-11-12 12:09:28,573 Iter 149, Minibatch Loss= 0.2639, Training Accuracy= 0.0017, Minibatch error= 99.8%\n",
      "2019-11-12 12:09:28,667 Iter 150, Minibatch Loss= 0.2685, Training Accuracy= 0.0025, Minibatch error= 99.7%\n",
      "2019-11-12 12:09:28,764 Iter 151, Minibatch Loss= 0.2691, Training Accuracy= 0.0027, Minibatch error= 99.7%\n",
      "2019-11-12 12:09:28,852 Iter 152, Minibatch Loss= 0.2523, Training Accuracy= 0.0029, Minibatch error= 99.7%\n",
      "2019-11-12 12:09:28,946 Iter 153, Minibatch Loss= 0.2772, Training Accuracy= 0.0015, Minibatch error= 99.8%\n",
      "2019-11-12 12:09:29,048 Iter 154, Minibatch Loss= 0.2782, Training Accuracy= 0.0006, Minibatch error= 99.9%\n",
      "2019-11-12 12:09:29,144 Iter 155, Minibatch Loss= 0.2719, Training Accuracy= 0.0031, Minibatch error= 99.7%\n",
      "2019-11-12 12:09:29,234 Iter 156, Minibatch Loss= 0.2745, Training Accuracy= 0.0030, Minibatch error= 99.7%\n",
      "2019-11-12 12:09:29,331 Iter 157, Minibatch Loss= 0.2753, Training Accuracy= 0.0019, Minibatch error= 99.8%\n",
      "2019-11-12 12:09:29,424 Iter 158, Minibatch Loss= 0.2814, Training Accuracy= 0.0005, Minibatch error= 99.9%\n",
      "2019-11-12 12:09:29,514 Iter 159, Minibatch Loss= 0.2738, Training Accuracy= 0.0011, Minibatch error= 99.9%\n",
      "2019-11-12 12:09:29,515 Epoch 4, Average loss: -0.1391, learning rate: 0.0000\n",
      "2019-11-12 12:09:29,578 Verification error= 99.4%, loss= 0.2194\n",
      "2019-11-12 12:09:29,876 Optimization Finished!\n"
     ]
    }
   ],
   "source": [
    "\n",
    "trainer = unet.Trainer(net, optimizer=\"momentum\", opt_kwargs=dict(momentum=0.2))\n",
    "path = trainer.train(data_provider, \"./data/model\", \n",
    "                     training_iters=32, \n",
    "                     epochs=5, \n",
    "                     dropout=0.3)\n",
    "\n"
   ]
  },
  {
   "cell_type": "markdown",
   "metadata": {},
   "source": [
    "## running the prediction on the trained unet"
   ]
  },
  {
   "cell_type": "code",
   "execution_count": 6,
   "metadata": {
    "jupyter": {
     "outputs_hidden": false
    }
   },
   "outputs": [
    {
     "name": "stdout",
     "output_type": "stream",
     "text": [
      "Number of files used: 9337\n",
      "Number of channels: 3\n",
      "Number of classes: 3\n",
      "WARNING:tensorflow:From /home/will/.local/lib/python3.6/site-packages/tensorflow/python/training/saver.py:1276: checkpoint_exists (from tensorflow.python.training.checkpoint_management) is deprecated and will be removed in a future version.\n",
      "Instructions for updating:\n",
      "Use standard file APIs to check for files with this prefix.\n"
     ]
    },
    {
     "name": "stderr",
     "output_type": "stream",
     "text": [
      "2019-11-12 12:09:30,121 From /home/will/.local/lib/python3.6/site-packages/tensorflow/python/training/saver.py:1276: checkpoint_exists (from tensorflow.python.training.checkpoint_management) is deprecated and will be removed in a future version.\n",
      "Instructions for updating:\n",
      "Use standard file APIs to check for files with this prefix.\n"
     ]
    },
    {
     "name": "stdout",
     "output_type": "stream",
     "text": [
      "INFO:tensorflow:Restoring parameters from ./data/model/model.ckpt\n"
     ]
    },
    {
     "name": "stderr",
     "output_type": "stream",
     "text": [
      "2019-11-12 12:09:30,123 Restoring parameters from ./data/model/model.ckpt\n",
      "2019-11-12 12:09:30,241 Model restored from file: ./data/model/model.ckpt\n"
     ]
    }
   ],
   "source": [
    "data_provider = imu.NormalsDataProvider(\"/home/will/projects/legoproj/data/normz/*\")#DataProvider(10000, files)\n",
    "x_test, y_test = data_provider(1)\n",
    "prediction = net.predict(path, x_test)"
   ]
  },
  {
   "cell_type": "code",
   "execution_count": 7,
   "metadata": {
    "jupyter": {
     "outputs_hidden": false
    }
   },
   "outputs": [
    {
     "ename": "ValueError",
     "evalue": "Colormap rgb is not recognized. Possible values are: Accent, Accent_r, Blues, Blues_r, BrBG, BrBG_r, BuGn, BuGn_r, BuPu, BuPu_r, CMRmap, CMRmap_r, Dark2, Dark2_r, GnBu, GnBu_r, Greens, Greens_r, Greys, Greys_r, OrRd, OrRd_r, Oranges, Oranges_r, PRGn, PRGn_r, Paired, Paired_r, Pastel1, Pastel1_r, Pastel2, Pastel2_r, PiYG, PiYG_r, PuBu, PuBuGn, PuBuGn_r, PuBu_r, PuOr, PuOr_r, PuRd, PuRd_r, Purples, Purples_r, RdBu, RdBu_r, RdGy, RdGy_r, RdPu, RdPu_r, RdYlBu, RdYlBu_r, RdYlGn, RdYlGn_r, Reds, Reds_r, Set1, Set1_r, Set2, Set2_r, Set3, Set3_r, Spectral, Spectral_r, Wistia, Wistia_r, YlGn, YlGnBu, YlGnBu_r, YlGn_r, YlOrBr, YlOrBr_r, YlOrRd, YlOrRd_r, afmhot, afmhot_r, autumn, autumn_r, binary, binary_r, bone, bone_r, brg, brg_r, bwr, bwr_r, cividis, cividis_r, cool, cool_r, coolwarm, coolwarm_r, copper, copper_r, cubehelix, cubehelix_r, flag, flag_r, gist_earth, gist_earth_r, gist_gray, gist_gray_r, gist_heat, gist_heat_r, gist_ncar, gist_ncar_r, gist_rainbow, gist_rainbow_r, gist_stern, gist_stern_r, gist_yarg, gist_yarg_r, gnuplot, gnuplot2, gnuplot2_r, gnuplot_r, gray, gray_r, hot, hot_r, hsv, hsv_r, inferno, inferno_r, jet, jet_r, magma, magma_r, nipy_spectral, nipy_spectral_r, ocean, ocean_r, pink, pink_r, plasma, plasma_r, prism, prism_r, rainbow, rainbow_r, seismic, seismic_r, spring, spring_r, summer, summer_r, tab10, tab10_r, tab20, tab20_r, tab20b, tab20b_r, tab20c, tab20c_r, terrain, terrain_r, twilight, twilight_r, twilight_shifted, twilight_shifted_r, viridis, viridis_r, winter, winter_r",
     "output_type": "error",
     "traceback": [
      "\u001b[0;31m---------------------------------------------------------------------------\u001b[0m",
      "\u001b[0;31mValueError\u001b[0m                                Traceback (most recent call last)",
      "\u001b[0;32m<ipython-input-7-7aab21fd7eb7>\u001b[0m in \u001b[0;36m<module>\u001b[0;34m\u001b[0m\n\u001b[1;32m      1\u001b[0m \u001b[0mfig\u001b[0m\u001b[0;34m,\u001b[0m \u001b[0max\u001b[0m \u001b[0;34m=\u001b[0m \u001b[0mplt\u001b[0m\u001b[0;34m.\u001b[0m\u001b[0msubplots\u001b[0m\u001b[0;34m(\u001b[0m\u001b[0;36m1\u001b[0m\u001b[0;34m,\u001b[0m\u001b[0;36m3\u001b[0m\u001b[0;34m,\u001b[0m \u001b[0mfigsize\u001b[0m\u001b[0;34m=\u001b[0m\u001b[0;34m(\u001b[0m\u001b[0;36m12\u001b[0m\u001b[0;34m,\u001b[0m\u001b[0;36m4\u001b[0m\u001b[0;34m)\u001b[0m\u001b[0;34m)\u001b[0m\u001b[0;34m\u001b[0m\u001b[0;34m\u001b[0m\u001b[0m\n\u001b[0;32m----> 2\u001b[0;31m \u001b[0max\u001b[0m\u001b[0;34m[\u001b[0m\u001b[0;36m0\u001b[0m\u001b[0;34m]\u001b[0m\u001b[0;34m.\u001b[0m\u001b[0mimshow\u001b[0m\u001b[0;34m(\u001b[0m\u001b[0mx_test\u001b[0m\u001b[0;34m[\u001b[0m\u001b[0;36m0\u001b[0m\u001b[0;34m,\u001b[0m\u001b[0;34m...\u001b[0m\u001b[0;34m,\u001b[0m\u001b[0;36m0\u001b[0m\u001b[0;34m]\u001b[0m\u001b[0;34m,\u001b[0m \u001b[0maspect\u001b[0m\u001b[0;34m=\u001b[0m\u001b[0;34m\"auto\"\u001b[0m\u001b[0;34m)\u001b[0m\u001b[0;34m\u001b[0m\u001b[0;34m\u001b[0m\u001b[0m\n\u001b[0m\u001b[1;32m      3\u001b[0m \u001b[0max\u001b[0m\u001b[0;34m[\u001b[0m\u001b[0;36m1\u001b[0m\u001b[0;34m]\u001b[0m\u001b[0;34m.\u001b[0m\u001b[0mimshow\u001b[0m\u001b[0;34m(\u001b[0m\u001b[0my_test\u001b[0m\u001b[0;34m[\u001b[0m\u001b[0;36m0\u001b[0m\u001b[0;34m,\u001b[0m\u001b[0;34m...\u001b[0m\u001b[0;34m,\u001b[0m\u001b[0;36m1\u001b[0m\u001b[0;34m]\u001b[0m\u001b[0;34m,\u001b[0m \u001b[0maspect\u001b[0m\u001b[0;34m=\u001b[0m\u001b[0;34m\"auto\"\u001b[0m\u001b[0;34m)\u001b[0m\u001b[0;34m\u001b[0m\u001b[0;34m\u001b[0m\u001b[0m\n\u001b[1;32m      4\u001b[0m \u001b[0max\u001b[0m\u001b[0;34m[\u001b[0m\u001b[0;36m2\u001b[0m\u001b[0;34m]\u001b[0m\u001b[0;34m.\u001b[0m\u001b[0mimshow\u001b[0m\u001b[0;34m(\u001b[0m\u001b[0mprediction\u001b[0m\u001b[0;34m[\u001b[0m\u001b[0;36m0\u001b[0m\u001b[0;34m,\u001b[0m\u001b[0;34m...\u001b[0m\u001b[0;34m,\u001b[0m\u001b[0;36m1\u001b[0m\u001b[0;34m]\u001b[0m\u001b[0;34m,\u001b[0m \u001b[0maspect\u001b[0m\u001b[0;34m=\u001b[0m\u001b[0;34m\"auto\"\u001b[0m\u001b[0;34m)\u001b[0m\u001b[0;34m\u001b[0m\u001b[0;34m\u001b[0m\u001b[0m\n",
      "\u001b[0;32m/usr/local/lib/python3.6/dist-packages/matplotlib/__init__.py\u001b[0m in \u001b[0;36minner\u001b[0;34m(ax, data, *args, **kwargs)\u001b[0m\n\u001b[1;32m   1599\u001b[0m     \u001b[0;32mdef\u001b[0m \u001b[0minner\u001b[0m\u001b[0;34m(\u001b[0m\u001b[0max\u001b[0m\u001b[0;34m,\u001b[0m \u001b[0;34m*\u001b[0m\u001b[0margs\u001b[0m\u001b[0;34m,\u001b[0m \u001b[0mdata\u001b[0m\u001b[0;34m=\u001b[0m\u001b[0;32mNone\u001b[0m\u001b[0;34m,\u001b[0m \u001b[0;34m**\u001b[0m\u001b[0mkwargs\u001b[0m\u001b[0;34m)\u001b[0m\u001b[0;34m:\u001b[0m\u001b[0;34m\u001b[0m\u001b[0;34m\u001b[0m\u001b[0m\n\u001b[1;32m   1600\u001b[0m         \u001b[0;32mif\u001b[0m \u001b[0mdata\u001b[0m \u001b[0;32mis\u001b[0m \u001b[0;32mNone\u001b[0m\u001b[0;34m:\u001b[0m\u001b[0;34m\u001b[0m\u001b[0;34m\u001b[0m\u001b[0m\n\u001b[0;32m-> 1601\u001b[0;31m             \u001b[0;32mreturn\u001b[0m \u001b[0mfunc\u001b[0m\u001b[0;34m(\u001b[0m\u001b[0max\u001b[0m\u001b[0;34m,\u001b[0m \u001b[0;34m*\u001b[0m\u001b[0mmap\u001b[0m\u001b[0;34m(\u001b[0m\u001b[0msanitize_sequence\u001b[0m\u001b[0;34m,\u001b[0m \u001b[0margs\u001b[0m\u001b[0;34m)\u001b[0m\u001b[0;34m,\u001b[0m \u001b[0;34m**\u001b[0m\u001b[0mkwargs\u001b[0m\u001b[0;34m)\u001b[0m\u001b[0;34m\u001b[0m\u001b[0;34m\u001b[0m\u001b[0m\n\u001b[0m\u001b[1;32m   1602\u001b[0m \u001b[0;34m\u001b[0m\u001b[0m\n\u001b[1;32m   1603\u001b[0m         \u001b[0mbound\u001b[0m \u001b[0;34m=\u001b[0m \u001b[0mnew_sig\u001b[0m\u001b[0;34m.\u001b[0m\u001b[0mbind\u001b[0m\u001b[0;34m(\u001b[0m\u001b[0max\u001b[0m\u001b[0;34m,\u001b[0m \u001b[0;34m*\u001b[0m\u001b[0margs\u001b[0m\u001b[0;34m,\u001b[0m \u001b[0;34m**\u001b[0m\u001b[0mkwargs\u001b[0m\u001b[0;34m)\u001b[0m\u001b[0;34m\u001b[0m\u001b[0;34m\u001b[0m\u001b[0m\n",
      "\u001b[0;32m/usr/local/lib/python3.6/dist-packages/matplotlib/cbook/deprecation.py\u001b[0m in \u001b[0;36mwrapper\u001b[0;34m(*args, **kwargs)\u001b[0m\n\u001b[1;32m    367\u001b[0m                 \u001b[0;34mf\"%(removal)s.  If any parameter follows {name!r}, they \"\u001b[0m\u001b[0;34m\u001b[0m\u001b[0;34m\u001b[0m\u001b[0m\n\u001b[1;32m    368\u001b[0m                 f\"should be pass as keyword, not positionally.\")\n\u001b[0;32m--> 369\u001b[0;31m         \u001b[0;32mreturn\u001b[0m \u001b[0mfunc\u001b[0m\u001b[0;34m(\u001b[0m\u001b[0;34m*\u001b[0m\u001b[0margs\u001b[0m\u001b[0;34m,\u001b[0m \u001b[0;34m**\u001b[0m\u001b[0mkwargs\u001b[0m\u001b[0;34m)\u001b[0m\u001b[0;34m\u001b[0m\u001b[0;34m\u001b[0m\u001b[0m\n\u001b[0m\u001b[1;32m    370\u001b[0m \u001b[0;34m\u001b[0m\u001b[0m\n\u001b[1;32m    371\u001b[0m     \u001b[0;32mreturn\u001b[0m \u001b[0mwrapper\u001b[0m\u001b[0;34m\u001b[0m\u001b[0;34m\u001b[0m\u001b[0m\n",
      "\u001b[0;32m/usr/local/lib/python3.6/dist-packages/matplotlib/cbook/deprecation.py\u001b[0m in \u001b[0;36mwrapper\u001b[0;34m(*args, **kwargs)\u001b[0m\n\u001b[1;32m    367\u001b[0m                 \u001b[0;34mf\"%(removal)s.  If any parameter follows {name!r}, they \"\u001b[0m\u001b[0;34m\u001b[0m\u001b[0;34m\u001b[0m\u001b[0m\n\u001b[1;32m    368\u001b[0m                 f\"should be pass as keyword, not positionally.\")\n\u001b[0;32m--> 369\u001b[0;31m         \u001b[0;32mreturn\u001b[0m \u001b[0mfunc\u001b[0m\u001b[0;34m(\u001b[0m\u001b[0;34m*\u001b[0m\u001b[0margs\u001b[0m\u001b[0;34m,\u001b[0m \u001b[0;34m**\u001b[0m\u001b[0mkwargs\u001b[0m\u001b[0;34m)\u001b[0m\u001b[0;34m\u001b[0m\u001b[0;34m\u001b[0m\u001b[0m\n\u001b[0m\u001b[1;32m    370\u001b[0m \u001b[0;34m\u001b[0m\u001b[0m\n\u001b[1;32m    371\u001b[0m     \u001b[0;32mreturn\u001b[0m \u001b[0mwrapper\u001b[0m\u001b[0;34m\u001b[0m\u001b[0;34m\u001b[0m\u001b[0m\n",
      "\u001b[0;32m/usr/local/lib/python3.6/dist-packages/matplotlib/axes/_axes.py\u001b[0m in \u001b[0;36mimshow\u001b[0;34m(self, X, cmap, norm, aspect, interpolation, alpha, vmin, vmax, origin, extent, shape, filternorm, filterrad, imlim, resample, url, **kwargs)\u001b[0m\n\u001b[1;32m   5667\u001b[0m         im = mimage.AxesImage(self, cmap, norm, interpolation, origin, extent,\n\u001b[1;32m   5668\u001b[0m                               \u001b[0mfilternorm\u001b[0m\u001b[0;34m=\u001b[0m\u001b[0mfilternorm\u001b[0m\u001b[0;34m,\u001b[0m \u001b[0mfilterrad\u001b[0m\u001b[0;34m=\u001b[0m\u001b[0mfilterrad\u001b[0m\u001b[0;34m,\u001b[0m\u001b[0;34m\u001b[0m\u001b[0;34m\u001b[0m\u001b[0m\n\u001b[0;32m-> 5669\u001b[0;31m                               resample=resample, **kwargs)\n\u001b[0m\u001b[1;32m   5670\u001b[0m \u001b[0;34m\u001b[0m\u001b[0m\n\u001b[1;32m   5671\u001b[0m         \u001b[0mim\u001b[0m\u001b[0;34m.\u001b[0m\u001b[0mset_data\u001b[0m\u001b[0;34m(\u001b[0m\u001b[0mX\u001b[0m\u001b[0;34m)\u001b[0m\u001b[0;34m\u001b[0m\u001b[0;34m\u001b[0m\u001b[0m\n",
      "\u001b[0;32m/usr/local/lib/python3.6/dist-packages/matplotlib/image.py\u001b[0m in \u001b[0;36m__init__\u001b[0;34m(self, ax, cmap, norm, interpolation, origin, extent, filternorm, filterrad, resample, **kwargs)\u001b[0m\n\u001b[1;32m    862\u001b[0m             \u001b[0mfilterrad\u001b[0m\u001b[0;34m=\u001b[0m\u001b[0mfilterrad\u001b[0m\u001b[0;34m,\u001b[0m\u001b[0;34m\u001b[0m\u001b[0;34m\u001b[0m\u001b[0m\n\u001b[1;32m    863\u001b[0m             \u001b[0mresample\u001b[0m\u001b[0;34m=\u001b[0m\u001b[0mresample\u001b[0m\u001b[0;34m,\u001b[0m\u001b[0;34m\u001b[0m\u001b[0;34m\u001b[0m\u001b[0m\n\u001b[0;32m--> 864\u001b[0;31m             \u001b[0;34m**\u001b[0m\u001b[0mkwargs\u001b[0m\u001b[0;34m\u001b[0m\u001b[0;34m\u001b[0m\u001b[0m\n\u001b[0m\u001b[1;32m    865\u001b[0m         )\n\u001b[1;32m    866\u001b[0m \u001b[0;34m\u001b[0m\u001b[0m\n",
      "\u001b[0;32m/usr/local/lib/python3.6/dist-packages/matplotlib/image.py\u001b[0m in \u001b[0;36m__init__\u001b[0;34m(self, ax, cmap, norm, interpolation, origin, filternorm, filterrad, resample, **kwargs)\u001b[0m\n\u001b[1;32m    205\u001b[0m         \"\"\"\n\u001b[1;32m    206\u001b[0m         \u001b[0mmartist\u001b[0m\u001b[0;34m.\u001b[0m\u001b[0mArtist\u001b[0m\u001b[0;34m.\u001b[0m\u001b[0m__init__\u001b[0m\u001b[0;34m(\u001b[0m\u001b[0mself\u001b[0m\u001b[0;34m)\u001b[0m\u001b[0;34m\u001b[0m\u001b[0;34m\u001b[0m\u001b[0m\n\u001b[0;32m--> 207\u001b[0;31m         \u001b[0mcm\u001b[0m\u001b[0;34m.\u001b[0m\u001b[0mScalarMappable\u001b[0m\u001b[0;34m.\u001b[0m\u001b[0m__init__\u001b[0m\u001b[0;34m(\u001b[0m\u001b[0mself\u001b[0m\u001b[0;34m,\u001b[0m \u001b[0mnorm\u001b[0m\u001b[0;34m,\u001b[0m \u001b[0mcmap\u001b[0m\u001b[0;34m)\u001b[0m\u001b[0;34m\u001b[0m\u001b[0;34m\u001b[0m\u001b[0m\n\u001b[0m\u001b[1;32m    208\u001b[0m         \u001b[0mself\u001b[0m\u001b[0;34m.\u001b[0m\u001b[0m_mouseover\u001b[0m \u001b[0;34m=\u001b[0m \u001b[0;32mTrue\u001b[0m\u001b[0;34m\u001b[0m\u001b[0;34m\u001b[0m\u001b[0m\n\u001b[1;32m    209\u001b[0m         \u001b[0;32mif\u001b[0m \u001b[0morigin\u001b[0m \u001b[0;32mis\u001b[0m \u001b[0;32mNone\u001b[0m\u001b[0;34m:\u001b[0m\u001b[0;34m\u001b[0m\u001b[0;34m\u001b[0m\u001b[0m\n",
      "\u001b[0;32m/usr/local/lib/python3.6/dist-packages/matplotlib/cm.py\u001b[0m in \u001b[0;36m__init__\u001b[0;34m(self, norm, cmap)\u001b[0m\n\u001b[1;32m    208\u001b[0m \u001b[0;34m\u001b[0m\u001b[0m\n\u001b[1;32m    209\u001b[0m         \u001b[0;32mif\u001b[0m \u001b[0mcmap\u001b[0m \u001b[0;32mis\u001b[0m \u001b[0;32mNone\u001b[0m\u001b[0;34m:\u001b[0m\u001b[0;34m\u001b[0m\u001b[0;34m\u001b[0m\u001b[0m\n\u001b[0;32m--> 210\u001b[0;31m             \u001b[0mcmap\u001b[0m \u001b[0;34m=\u001b[0m \u001b[0mget_cmap\u001b[0m\u001b[0;34m(\u001b[0m\u001b[0;34m)\u001b[0m\u001b[0;34m\u001b[0m\u001b[0;34m\u001b[0m\u001b[0m\n\u001b[0m\u001b[1;32m    211\u001b[0m         \u001b[0;32mif\u001b[0m \u001b[0mnorm\u001b[0m \u001b[0;32mis\u001b[0m \u001b[0;32mNone\u001b[0m\u001b[0;34m:\u001b[0m\u001b[0;34m\u001b[0m\u001b[0;34m\u001b[0m\u001b[0m\n\u001b[1;32m    212\u001b[0m             \u001b[0mnorm\u001b[0m \u001b[0;34m=\u001b[0m \u001b[0mcolors\u001b[0m\u001b[0;34m.\u001b[0m\u001b[0mNormalize\u001b[0m\u001b[0;34m(\u001b[0m\u001b[0;34m)\u001b[0m\u001b[0;34m\u001b[0m\u001b[0;34m\u001b[0m\u001b[0m\n",
      "\u001b[0;32m/usr/local/lib/python3.6/dist-packages/matplotlib/cm.py\u001b[0m in \u001b[0;36mget_cmap\u001b[0;34m(name, lut)\u001b[0m\n\u001b[1;32m    181\u001b[0m         raise ValueError(\n\u001b[1;32m    182\u001b[0m             \u001b[0;34m\"Colormap %s is not recognized. Possible values are: %s\"\u001b[0m\u001b[0;34m\u001b[0m\u001b[0;34m\u001b[0m\u001b[0m\n\u001b[0;32m--> 183\u001b[0;31m             % (name, ', '.join(sorted(cmap_d))))\n\u001b[0m\u001b[1;32m    184\u001b[0m \u001b[0;34m\u001b[0m\u001b[0m\n\u001b[1;32m    185\u001b[0m \u001b[0;34m\u001b[0m\u001b[0m\n",
      "\u001b[0;31mValueError\u001b[0m: Colormap rgb is not recognized. Possible values are: Accent, Accent_r, Blues, Blues_r, BrBG, BrBG_r, BuGn, BuGn_r, BuPu, BuPu_r, CMRmap, CMRmap_r, Dark2, Dark2_r, GnBu, GnBu_r, Greens, Greens_r, Greys, Greys_r, OrRd, OrRd_r, Oranges, Oranges_r, PRGn, PRGn_r, Paired, Paired_r, Pastel1, Pastel1_r, Pastel2, Pastel2_r, PiYG, PiYG_r, PuBu, PuBuGn, PuBuGn_r, PuBu_r, PuOr, PuOr_r, PuRd, PuRd_r, Purples, Purples_r, RdBu, RdBu_r, RdGy, RdGy_r, RdPu, RdPu_r, RdYlBu, RdYlBu_r, RdYlGn, RdYlGn_r, Reds, Reds_r, Set1, Set1_r, Set2, Set2_r, Set3, Set3_r, Spectral, Spectral_r, Wistia, Wistia_r, YlGn, YlGnBu, YlGnBu_r, YlGn_r, YlOrBr, YlOrBr_r, YlOrRd, YlOrRd_r, afmhot, afmhot_r, autumn, autumn_r, binary, binary_r, bone, bone_r, brg, brg_r, bwr, bwr_r, cividis, cividis_r, cool, cool_r, coolwarm, coolwarm_r, copper, copper_r, cubehelix, cubehelix_r, flag, flag_r, gist_earth, gist_earth_r, gist_gray, gist_gray_r, gist_heat, gist_heat_r, gist_ncar, gist_ncar_r, gist_rainbow, gist_rainbow_r, gist_stern, gist_stern_r, gist_yarg, gist_yarg_r, gnuplot, gnuplot2, gnuplot2_r, gnuplot_r, gray, gray_r, hot, hot_r, hsv, hsv_r, inferno, inferno_r, jet, jet_r, magma, magma_r, nipy_spectral, nipy_spectral_r, ocean, ocean_r, pink, pink_r, plasma, plasma_r, prism, prism_r, rainbow, rainbow_r, seismic, seismic_r, spring, spring_r, summer, summer_r, tab10, tab10_r, tab20, tab20_r, tab20b, tab20b_r, tab20c, tab20c_r, terrain, terrain_r, twilight, twilight_r, twilight_shifted, twilight_shifted_r, viridis, viridis_r, winter, winter_r"
     ]
    },
    {
     "data": {
      "image/png": "[encoded data removed]",
      "text/plain": [
       "<Figure size 864x288 with 3 Axes>"
      ]
     },
     "metadata": {
      "needs_background": "light"
     },
     "output_type": "display_data"
    }
   ],
   "source": [
    "fig, ax = plt.subplots(1,3, figsize=(12,4))\n",
    "ax[0].imshow(x_test[0,...,0], aspect=\"auto\")\n",
    "ax[1].imshow(y_test[0,...,1], aspect=\"auto\")\n",
    "ax[2].imshow(prediction[0,...,1], aspect=\"auto\")"
   ]
  },
  {
   "cell_type": "code",
   "execution_count": null,
   "metadata": {
    "jupyter": {
     "outputs_hidden": true
    }
   },
   "outputs": [],
   "source": []
  }
 ],
 "metadata": {
  "kernelspec": {
   "display_name": "Python 3",
   "language": "python",
   "name": "python3"
  },
  "language_info": {
   "codemirror_mode": {
    "name": "ipython",
    "version": 3
   },
   "file_extension": ".py",
   "mimetype": "text/x-python",
   "name": "python",
   "nbconvert_exporter": "python",
   "pygments_lexer": "ipython3",
   "version": "3.6.8"
  }
 },
 "nbformat": 4,
 "nbformat_minor": 4
}
