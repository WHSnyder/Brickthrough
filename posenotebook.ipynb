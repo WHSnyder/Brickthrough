{
 "cells": [
  {
   "cell_type": "code",
   "execution_count": 539,
   "metadata": {},
   "outputs": [
    {
     "data": {
      "image/png": "[encoded data removed]",
      "text/plain": [
       "<Figure size 432x288 with 1 Axes>"
      ]
     },
     "metadata": {
      "needs_background": "light"
     },
     "output_type": "display_data"
    }
   ],
   "source": [
    "import numpy as np\n",
    "import cv2\n",
    "from matplotlib import pyplot as plt\n",
    "import sys\n",
    "import math\n",
    "import json\n",
    "import re\n",
    "import utils.feature_utils as fu\n",
    "\n",
    "%matplotlib inline\n",
    "\n",
    "fu.dim = 512\n",
    "\n",
    "expr = re.compile(\"([-]?[0-9]*\\.[0-9]{4})\")\n",
    "\n",
    "\n",
    "datadir = \"/Users/will/Desktop/brick_oneofeach/\"\n",
    "img0 = cv2.imread('wing2.png',0)\n",
    "img = cv2.imread(datadir + '2_brick_a.png')\n",
    "\n",
    "\n",
    "gray = cv2.cvtColor(img,cv2.COLOR_BGR2GRAY)\n",
    "gray = cv2.bilateralFilter(gray, 11, 17, 17)\n",
    "\n",
    "\n",
    "edged = cv2.Canny(gray, 30, 200)\n",
    "'''\n",
    "cv2.imshow('Edges', edged)\n",
    "if cv2.waitKey(0) & 0xff == 27:\n",
    "   cv2.destroyAllWindows()\n",
    "'''\n",
    "plt.imshow(edged,cmap='gray')\n",
    "plt.show()\n",
    "\n",
    "kernel = np.ones((2,2), np.uint8) \n",
    "edged = cv2.dilate(edged, kernel, iterations=2) \n",
    "\n",
    "\n",
    "cv2.imshow('Dilated', edged)\n",
    "\n",
    "'''\n",
    "if cv2.waitKey(0) & 0xff == 27:\n",
    "   cv2.destroyAllWindows()\n",
    "'''\n",
    "\n",
    "contours, hierarchy = cv2.findContours(edged, cv2.RETR_LIST, cv2.CHAIN_APPROX_SIMPLE)\n"
   ]
  },
  {
   "cell_type": "code",
   "execution_count": 540,
   "metadata": {},
   "outputs": [
    {
     "ename": "AttributeError",
     "evalue": "module 'utils.feature_utils' has no attribute 'getCalibCorrs'",
     "output_type": "error",
     "traceback": [
      "\u001b[0;31m---------------------------------------------------------------------------\u001b[0m",
      "\u001b[0;31mAttributeError\u001b[0m                            Traceback (most recent call last)",
      "\u001b[0;32m<ipython-input-540-68e53c229e14>\u001b[0m in \u001b[0;36m<module>\u001b[0;34m\u001b[0m\n\u001b[0;32m----> 1\u001b[0;31m \u001b[0mocalib\u001b[0m\u001b[0;34m,\u001b[0m \u001b[0mscalib\u001b[0m \u001b[0;34m=\u001b[0m \u001b[0mfu\u001b[0m\u001b[0;34m.\u001b[0m\u001b[0mgetCalibCorrs\u001b[0m\u001b[0;34m(\u001b[0m\u001b[0;34m)\u001b[0m\u001b[0;34m\u001b[0m\u001b[0;34m\u001b[0m\u001b[0m\n\u001b[0m",
      "\u001b[0;31mAttributeError\u001b[0m: module 'utils.feature_utils' has no attribute 'getCalibCorrs'"
     ]
    }
   ],
   "source": [
    "ocalib, scalib = fu.getCalibCorrs()"
   ]
  },
  {
   "cell_type": "code",
   "execution_count": null,
   "metadata": {},
   "outputs": [],
   "source": [
    "img1 = cv2.cvtColor(edged,cv2.COLOR_GRAY2RGB)\n",
    "\n",
    "num = len(contours)\n",
    "\n",
    "for i in range(num):\n",
    "    one = math.floor(i/num * 255)\n",
    "    other = 255 - one\n",
    "    b = 150 if i % 2 else 20\n",
    "    cv2.drawContours(img1, contours, i, (one, other, b), 2)\n",
    "\n",
    " \n",
    "plt.imshow(img1)\n",
    "plt.show()\n",
    "\n",
    "for contour in contours:\n",
    "    perimeter = cv2.arcLength(contour,True)\n",
    "    print(\"Found contour of length: \" + str(perimeter))"
   ]
  },
  {
   "cell_type": "code",
   "execution_count": null,
   "metadata": {},
   "outputs": [],
   "source": [
    "t = contours[-2]\n",
    "t2 = contours[0]"
   ]
  },
  {
   "cell_type": "code",
   "execution_count": null,
   "metadata": {},
   "outputs": [],
   "source": [
    "approx = cv2.approxPolyDP(t,0.05*cv2.arcLength(t,True),True)\n",
    "approx2 = cv2.approxPolyDP(t2,0.05*cv2.arcLength(t2,True),True)\n",
    "approx2"
   ]
  },
  {
   "cell_type": "code",
   "execution_count": null,
   "metadata": {},
   "outputs": [],
   "source": [
    "def get_pair(index, points):\n",
    "    \n",
    "    num = len(points)\n",
    "    for i in range(num):\n",
    "        j = i + 1 if i < num - 1 else 0\n",
    "        \n",
    "        if i == index:\n",
    "            return np.array([points[i], points[j]])\n",
    "    return None\n",
    "\n",
    "\n",
    "def get_slopes(points):\n",
    "    num = len(points)\n",
    "    slopes = []\n",
    "    \n",
    "    for i in range(num):\n",
    "\n",
    "        j = i + 1 if i < num - 1 else 0\n",
    "        \n",
    "        diff = points[j] - points[i]\n",
    "        \n",
    "        if diff[1] == 0:\n",
    "            diff[1] += 1\n",
    "            \n",
    "        slope = diff[0]/diff[1]\n",
    "        slopes.append(tuple([i, slope]))\n",
    "    \n",
    "    slopes.sort(key=lambda x: x[1])\n",
    "    return slopes\n",
    "\n",
    "\n",
    "def get_parallel_pair(slopes):\n",
    "    \n",
    "    num = len(slopes)\n",
    "    \n",
    "    for i in range(num):\n",
    "        j = i + 1 if i < num - 1 else 0\n",
    "        \n",
    "        cur0 = slopes[0][1]\n",
    "        cur1 = slopes[1][1]\n",
    "        \n",
    "        if abs(cur1 - cur0) < .5:\n",
    "            return tuple([cur0[0], cur1[0]])\n",
    "        \n",
    "    return None\n",
    "        \n",
    "    \n",
    "    \n",
    "def edge_march(edge, studs):\n",
    "    return None\n",
    "    "
   ]
  },
  {
   "cell_type": "code",
   "execution_count": null,
   "metadata": {},
   "outputs": [],
   "source": [
    "img2 = cv2.cvtColor(edged,cv2.COLOR_GRAY2RGB)\n",
    "cv2.drawContours(img2, [approx2], 0, (255, 0, 0), 3)\n",
    "\n",
    "plt.imshow(img2)\n",
    "plt.show()"
   ]
  },
  {
   "cell_type": "code",
   "execution_count": null,
   "metadata": {},
   "outputs": [],
   "source": [
    "approx = np.reshape(approx, (-1,2))\n",
    "\n",
    "slopes = get_slopes(approx)\n",
    "\n",
    "approx2 = np.reshape(approx2, (-1,2))\n",
    "slopes2 = get_slopes(approx2)\n",
    "approx"
   ]
  },
  {
   "cell_type": "code",
   "execution_count": null,
   "metadata": {},
   "outputs": [],
   "source": [
    "line = get_pair(1,approx)\n",
    "print(line)"
   ]
  },
  {
   "cell_type": "code",
   "execution_count": null,
   "metadata": {},
   "outputs": [],
   "source": [
    "img2 = cv2.cvtColor(edged,cv2.COLOR_GRAY2RGB)\n",
    "cv2.drawContours(img2, [line], 0, (255, 0, 0), 3)\n",
    "\n",
    "cv2.circle(img2, (365, 258), 20, (0, 255, 0), 3)\n",
    "\n",
    "plt.imshow(img2)\n",
    "plt.show()"
   ]
  },
  {
   "cell_type": "code",
   "execution_count": null,
   "metadata": {},
   "outputs": [],
   "source": [
    "ocoordscw = np.array([(-0.64, -0.32, 0.0), (-0.64, 0.32, 0.0), (0.64, 0.32, 0.0),(0.64, 0.32, -0.384)], dtype = \"float32\")\n",
    "#ocoordscw = np.array([(-0.64, 0, -0.32), (-0.64, 0, 0.32), (0.64, 0, 0.32), (0.64, 0, -0.32)], dtype = \"double\")\n",
    "scoordscw = []\n",
    "\n",
    "for t in approx[0:4]:\n",
    "    scoordscw.append(tuple(t))\n",
    "\n",
    "#scoordscw.append(tuple([360, 349]))  \n",
    "scoordscw = np.array(scoordscw, dtype = \"double\")\n",
    "\n",
    "pmat = fu.get_object_matrices(datadir + \"mats/{}.txt\".format(2))[\"Projection\"]\n",
    "\n",
    "f = pmat[0][0]\n",
    "pmat"
   ]
  },
  {
   "cell_type": "code",
   "execution_count": null,
   "metadata": {},
   "outputs": [],
   "source": [
    "cmat = np.array([  [f, 0, 256],  [0, f, 256], [0, 0, -1]  ], dtype = \"double\")"
   ]
  },
  {
   "cell_type": "code",
   "execution_count": null,
   "metadata": {},
   "outputs": [],
   "source": [
    "cmat\n",
    "ocoordscw.shape"
   ]
  },
  {
   "cell_type": "code",
   "execution_count": null,
   "metadata": {},
   "outputs": [],
   "source": [
    "dist_coeffs = np.zeros((4,1))\n",
    "ocoordscw = np.reshape(ocoordscw, (4,1,3))\n",
    "scoordscw = np.reshape(scoordscw, (4,1,2))\n",
    "ocoordscw = ocoordscw.astype(np.float32)\n",
    "scoordscw = scoordscw.astype(np.float32)\n",
    "\n",
    "#ret, mtx, dist, rvecs, tvecs = cv2.calibrateCamera(ocoordscw, scoordscw, (512, 512),None,None)\n",
    "r = cv2.solvePnPRansac(ocoordscw, scoordscw, cmat, dist_coeffs.astype(np.float32), flags=(cv2.SOLVEPNP_ITERATIVE))\n",
    "#mat, jac = cv2.Rodrigues(r[1])\n",
    "#mat.append([0.0,0.0,0.0,1])\n",
    "r"
   ]
  },
  {
   "cell_type": "code",
   "execution_count": null,
   "metadata": {},
   "outputs": [],
   "source": [
    "rvec = r[1]\n",
    "tvec = r[2]\n",
    "tvec"
   ]
  },
  {
   "cell_type": "code",
   "execution_count": null,
   "metadata": {},
   "outputs": [],
   "source": [
    "(pt, jac) = cv2.projectPoints(np.array([(0,0.0,0.0),(1.0, 0.0, 0.0),(0.0, 1.0, 0.0),(0.0, 0.0, 1.0)]), rvec, tvec, cmat, dist_coeffs)"
   ]
  },
  {
   "cell_type": "code",
   "execution_count": null,
   "metadata": {},
   "outputs": [],
   "source": [
    "pt = pt.astype(int)\n",
    "pt"
   ]
  },
  {
   "cell_type": "code",
   "execution_count": null,
   "metadata": {},
   "outputs": [],
   "source": [
    "img3 = cv2.cvtColor(edged,cv2.COLOR_GRAY2RGB)\n",
    "lines = [(255,0,0), (0,255,0), (0,0,255)]\n",
    "#cv2.circle(img3, tuple(pt[0][0]), 20, (0, 0, 255), 3)\n",
    "\n",
    "i = 0\n",
    "for point in pt[1:4]:\n",
    "    o = pt[0][0]\n",
    "    print(tuple(point[0]))\n",
    "    cv2.line(img3, tuple(o), tuple(point[0]), lines[i], 3)\n",
    "    i+=1\n",
    "    \n",
    "plt.imshow(img3)\n",
    "plt.show()"
   ]
  },
  {
   "cell_type": "code",
   "execution_count": null,
   "metadata": {},
   "outputs": [],
   "source": []
  }
 ],
 "metadata": {
  "kernelspec": {
   "display_name": "Python 3",
   "language": "python",
   "name": "python3"
  },
  "language_info": {
   "codemirror_mode": {
    "name": "ipython",
    "version": 3
   },
   "file_extension": ".py",
   "mimetype": "text/x-python",
   "name": "python",
   "nbconvert_exporter": "python",
   "pygments_lexer": "ipython3",
   "version": "3.7.3"
  }
 },
 "nbformat": 4,
 "nbformat_minor": 2
}
