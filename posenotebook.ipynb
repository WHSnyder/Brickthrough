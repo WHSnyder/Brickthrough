{
 "cells": [
  {
   "cell_type": "code",
   "execution_count": 1,
   "metadata": {},
   "outputs": [
    {
     "data": {
      "image/png": "[encoded data removed]",
      "text/plain": [
       "<Figure size 432x288 with 1 Axes>"
      ]
     },
     "metadata": {
      "needs_background": "light"
     },
     "output_type": "display_data"
    }
   ],
   "source": [
    "import numpy as np\n",
    "import cv2\n",
    "from matplotlib import pyplot as plt\n",
    "import sys\n",
    "import math\n",
    "import json\n",
    "import re\n",
    "import utils.feature_utils as fu\n",
    "import utils.masking_utils as mu\n",
    "\n",
    "%matplotlib inline\n",
    "\n",
    "fu.dim = 512\n",
    "\n",
    "expr = re.compile(\"([-]?[0-9]*\\.[0-9]{4})\")\n",
    "\n",
    "\n",
    "datadir = \"/Users/will/Desktop/brick_oneofeach/\"\n",
    "img0 = cv2.imread('wing2.png',0)\n",
    "img = cv2.imread(datadir + '2_brick_a.png')\n",
    "\n",
    "\n",
    "gray = cv2.cvtColor(img,cv2.COLOR_BGR2GRAY)\n",
    "gray = cv2.bilateralFilter(gray, 11, 17, 17)\n",
    "\n",
    "\n",
    "edged = cv2.Canny(gray, 30, 200)\n",
    "'''\n",
    "cv2.imshow('Edges', edged)\n",
    "if cv2.waitKey(0) & 0xff == 27:\n",
    "   cv2.destroyAllWindows()\n",
    "'''\n",
    "plt.imshow(edged,cmap='gray')\n",
    "plt.show()\n",
    "\n",
    "kernel = np.ones((2,2), np.uint8) \n",
    "edged = cv2.dilate(edged, kernel, iterations=2) \n",
    "\n",
    "\n",
    "#cv2.imshow('Dilated', edged)\n",
    "\n",
    "'''\n",
    "if cv2.waitKey(0) & 0xff == 27:\n",
    "   cv2.destroyAllWindows()\n",
    "'''\n",
    "\n",
    "contours, hierarchy = cv2.findContours(edged, cv2.RETR_LIST, cv2.CHAIN_APPROX_SIMPLE)\n"
   ]
  },
  {
   "cell_type": "code",
   "execution_count": 2,
   "metadata": {},
   "outputs": [
    {
     "name": "stdout",
     "output_type": "stream",
     "text": [
      "[[-1.        -1.         0.       ]\n",
      " [ 1.        -1.         0.       ]\n",
      " [-1.         1.         0.       ]\n",
      " [ 1.         1.         0.       ]\n",
      " [ 0.        -1.3810458  0.       ]\n",
      " [ 0.         1.3810458  0.       ]\n",
      " [-1.8885571  0.         0.       ]\n",
      " [ 1.8885571  0.         0.       ]\n",
      " [ 0.         0.         0.       ]]\n",
      "[[375 355]\n",
      " [355 175]\n",
      " [175 358]\n",
      " [175 162]\n",
      " [397 261]\n",
      " [135 253]\n",
      " [285 454]\n",
      " [264  97]\n",
      " [274 257]]\n",
      "[[576.25736062   0.         248.52187915]\n",
      " [  0.         574.53464139 245.49564366]\n",
      " [  0.           0.           1.        ]]\n"
     ]
    },
    {
     "data": {
      "image/png": "[encoded data removed]",
      "text/plain": [
       "<Figure size 432x288 with 1 Axes>"
      ]
     },
     "metadata": {
      "needs_background": "light"
     },
     "output_type": "display_data"
    }
   ],
   "source": [
    "overts, sverts = fu.getCalibCorrs()\n",
    "calibimg = cv2.imread(\"/Users/will/projects/legoproj/utils/calib_data/calib.png\")\n",
    "\n",
    "for vert in sverts:\n",
    "    cv2.circle(calibimg, (vert[0], vert[1]), 20, (0, 0, 255), 3)\n",
    "\n",
    "print(overts)\n",
    "print(sverts)\n",
    "    \n",
    "ret, mtx, dist, rvecs, tvecs = cv2.calibrateCamera([overts.astype('float32')], [sverts.astype('float32')], (512,512), None, None)\n",
    "\n",
    "print(mtx)\n",
    "\n",
    "plt.imshow(calibimg)\n",
    "plt.show()"
   ]
  },
  {
   "cell_type": "code",
   "execution_count": 3,
   "metadata": {},
   "outputs": [
    {
     "data": {
      "image/png": "[encoded data removed]",
      "text/plain": [
       "<Figure size 432x288 with 1 Axes>"
      ]
     },
     "metadata": {
      "needs_background": "light"
     },
     "output_type": "display_data"
    },
    {
     "name": "stdout",
     "output_type": "stream",
     "text": [
      "Found contour of length: 119.21320307254791\n",
      "Found contour of length: 39.31370830535889\n",
      "Found contour of length: 29.899494647979736\n",
      "Found contour of length: 29.313708305358887\n",
      "Found contour of length: 35.3137081861496\n",
      "Found contour of length: 28.727921724319458\n",
      "Found contour of length: 27.899494528770447\n",
      "Found contour of length: 34.72792172431946\n",
      "Found contour of length: 29.899494767189026\n",
      "Found contour of length: 265.11269783973694\n",
      "Found contour of length: 299.11269783973694\n"
     ]
    }
   ],
   "source": [
    "img1 = cv2.cvtColor(edged,cv2.COLOR_GRAY2RGB)\n",
    "\n",
    "num = len(contours)\n",
    "\n",
    "for i in range(num):\n",
    "    one = math.floor(i/num * 255)\n",
    "    other = 255 - one\n",
    "    b = 150 if i % 2 else 20\n",
    "    cv2.drawContours(img1, contours, i, (one, other, b), 2)\n",
    "\n",
    " \n",
    "plt.imshow(img1)\n",
    "plt.show()\n",
    "\n",
    "for contour in contours:\n",
    "    perimeter = cv2.arcLength(contour,True)\n",
    "    print(\"Found contour of length: \" + str(perimeter))"
   ]
  },
  {
   "cell_type": "code",
   "execution_count": 4,
   "metadata": {},
   "outputs": [],
   "source": [
    "t = contours[-2]\n",
    "t2 = contours[0]"
   ]
  },
  {
   "cell_type": "code",
   "execution_count": 5,
   "metadata": {},
   "outputs": [
    {
     "data": {
      "text/plain": [
       "array([[[315, 335]],\n",
       "\n",
       "       [[364, 341]],\n",
       "\n",
       "       [[360, 349]],\n",
       "\n",
       "       [[320, 346]]], dtype=int32)"
      ]
     },
     "execution_count": 5,
     "metadata": {},
     "output_type": "execute_result"
    }
   ],
   "source": [
    "approx = cv2.approxPolyDP(t,0.05*cv2.arcLength(t,True),True)\n",
    "approx2 = cv2.approxPolyDP(t2,0.05*cv2.arcLength(t2,True),True)\n",
    "approx2"
   ]
  },
  {
   "cell_type": "code",
   "execution_count": 6,
   "metadata": {},
   "outputs": [],
   "source": [
    "def get_pair(index, points):\n",
    "    \n",
    "    num = len(points)\n",
    "    for i in range(num):\n",
    "        j = i + 1 if i < num - 1 else 0\n",
    "        \n",
    "        if i == index:\n",
    "            return np.array([points[i], points[j]])\n",
    "    return None\n",
    "\n",
    "\n",
    "def get_slopes(points):\n",
    "    num = len(points)\n",
    "    slopes = []\n",
    "    \n",
    "    for i in range(num):\n",
    "\n",
    "        j = i + 1 if i < num - 1 else 0\n",
    "        \n",
    "        diff = points[j] - points[i]\n",
    "        \n",
    "        if diff[1] == 0:\n",
    "            diff[1] += 1\n",
    "            \n",
    "        slope = diff[0]/diff[1]\n",
    "        slopes.append(tuple([i, slope]))\n",
    "    \n",
    "    slopes.sort(key=lambda x: x[1])\n",
    "    return slopes\n",
    "\n",
    "\n",
    "def get_parallel_pair(slopes):\n",
    "    \n",
    "    num = len(slopes)\n",
    "    \n",
    "    for i in range(num):\n",
    "        j = i + 1 if i < num - 1 else 0\n",
    "        \n",
    "        cur0 = slopes[0][1]\n",
    "        cur1 = slopes[1][1]\n",
    "        \n",
    "        if abs(cur1 - cur0) < .5:\n",
    "            return tuple([cur0[0], cur1[0]])\n",
    "        \n",
    "    return None\n",
    "        \n",
    "    \n",
    "    \n",
    "def edge_march(edge, studs):\n",
    "    return None\n",
    "    "
   ]
  },
  {
   "cell_type": "code",
   "execution_count": 7,
   "metadata": {},
   "outputs": [
    {
     "data": {
      "image/png": "[encoded data removed]",
      "text/plain": [
       "<Figure size 432x288 with 1 Axes>"
      ]
     },
     "metadata": {
      "needs_background": "light"
     },
     "output_type": "display_data"
    }
   ],
   "source": [
    "img2 = cv2.cvtColor(edged,cv2.COLOR_GRAY2RGB)\n",
    "cv2.drawContours(img2, [approx2], 0, (255, 0, 0), 3)\n",
    "\n",
    "plt.imshow(img2)\n",
    "plt.show()"
   ]
  },
  {
   "cell_type": "code",
   "execution_count": 8,
   "metadata": {},
   "outputs": [
    {
     "data": {
      "text/plain": [
       "array([[322, 253],\n",
       "       [365, 258],\n",
       "       [364, 336],\n",
       "       [315, 329]], dtype=int32)"
      ]
     },
     "execution_count": 8,
     "metadata": {},
     "output_type": "execute_result"
    }
   ],
   "source": [
    "approx = np.reshape(approx, (-1,2))\n",
    "\n",
    "slopes = get_slopes(approx)\n",
    "\n",
    "approx2 = np.reshape(approx2, (-1,2))\n",
    "slopes2 = get_slopes(approx2)\n",
    "approx"
   ]
  },
  {
   "cell_type": "code",
   "execution_count": 9,
   "metadata": {},
   "outputs": [
    {
     "name": "stdout",
     "output_type": "stream",
     "text": [
      "[[365 258]\n",
      " [364 336]]\n"
     ]
    }
   ],
   "source": [
    "line = get_pair(1,approx)\n",
    "print(line)"
   ]
  },
  {
   "cell_type": "code",
   "execution_count": 10,
   "metadata": {},
   "outputs": [
    {
     "data": {
      "image/png": "[encoded data removed]",
      "text/plain": [
       "<Figure size 432x288 with 1 Axes>"
      ]
     },
     "metadata": {
      "needs_background": "light"
     },
     "output_type": "display_data"
    }
   ],
   "source": [
    "img2 = cv2.cvtColor(edged,cv2.COLOR_GRAY2RGB)\n",
    "cv2.drawContours(img2, [line], 0, (255, 0, 0), 3)\n",
    "\n",
    "cv2.circle(img2, (365, 258), 20, (0, 255, 0), 3)\n",
    "\n",
    "plt.imshow(img2)\n",
    "plt.show()"
   ]
  },
  {
   "cell_type": "code",
   "execution_count": 11,
   "metadata": {},
   "outputs": [
    {
     "data": {
      "text/plain": [
       "array([[ 2.1875,  0.    ,  0.    ,  0.    ],\n",
       "       [ 0.    ,  2.1875,  0.    ,  0.    ],\n",
       "       [ 0.    ,  0.    , -1.002 , -0.2002],\n",
       "       [ 0.    ,  0.    , -1.    ,  0.    ]], dtype=float32)"
      ]
     },
     "execution_count": 11,
     "metadata": {},
     "output_type": "execute_result"
    }
   ],
   "source": [
    "ocoordscw = np.array([(-0.64, -0.32, 0.0), (-0.64, 0.32, 0.0), (0.64, 0.32, 0.0),(0.64, 0.32, -0.384)], dtype = \"float32\")\n",
    "#ocoordscw = np.array([(-0.64, 0, -0.32), (-0.64, 0, 0.32), (0.64, 0, 0.32), (0.64, 0, -0.32)], dtype = \"double\")\n",
    "scoordscw = []\n",
    "\n",
    "for t in approx[0:3]:\n",
    "    scoordscw.append(tuple(t))\n",
    "\n",
    "scoordscw.append(tuple([360, 349]))  \n",
    "scoordscw = np.array(scoordscw, dtype = \"double\")\n",
    "\n",
    "pmat = fu.get_object_matrices(datadir + \"mats/{}.txt\".format(2))[\"Projection\"]\n",
    "\n",
    "f = pmat[0][0]\n",
    "pmat\n",
    "#mtx[0][2] = 256\n",
    "#mtx[1][2] = 256"
   ]
  },
  {
   "cell_type": "code",
   "execution_count": 12,
   "metadata": {},
   "outputs": [],
   "source": [
    "cmat = np.array([  [f, 0, 256],  [0, f, 256], [0, 0, -1]  ], dtype = \"double\")"
   ]
  },
  {
   "cell_type": "code",
   "execution_count": 13,
   "metadata": {},
   "outputs": [
    {
     "data": {
      "text/plain": [
       "(4, 3)"
      ]
     },
     "execution_count": 13,
     "metadata": {},
     "output_type": "execute_result"
    }
   ],
   "source": [
    "cmat\n",
    "ocoordscw.shape"
   ]
  },
  {
   "cell_type": "code",
   "execution_count": 14,
   "metadata": {},
   "outputs": [
    {
     "data": {
      "text/plain": [
       "(True, array([[ 1.76287171],\n",
       "        [ 2.00963852],\n",
       "        [-0.59269336]]), array([[1.34904367],\n",
       "        [0.67589061],\n",
       "        [8.36928889]]), array([[0],\n",
       "        [1],\n",
       "        [2],\n",
       "        [3]], dtype=int32))"
      ]
     },
     "execution_count": 14,
     "metadata": {},
     "output_type": "execute_result"
    }
   ],
   "source": [
    "dist_coeffs = np.zeros((4,1))\n",
    "ocoordscw = np.reshape(ocoordscw, (4,1,3))\n",
    "scoordscw = np.reshape(scoordscw, (4,1,2))\n",
    "ocoordscw = ocoordscw.astype(np.float32)\n",
    "scoordscw = scoordscw.astype(np.float32)\n",
    "\n",
    "#ret, mtx, dist, rvecs, tvecs = cv2.calibrateCamera(ocoordscw, scoordscw, (512, 512),None,None)\n",
    "r = cv2.solvePnPRansac(ocoordscw, scoordscw, mtx, dist, flags=(cv2.SOLVEPNP_ITERATIVE))\n",
    "#mat, jac = cv2.Rodrigues(r[1])\n",
    "#mat.append([0.0,0.0,0.0,1])\n",
    "r"
   ]
  },
  {
   "cell_type": "code",
   "execution_count": 15,
   "metadata": {},
   "outputs": [
    {
     "data": {
      "text/plain": [
       "array([[1.34904367],\n",
       "       [0.67589061],\n",
       "       [8.36928889]])"
      ]
     },
     "execution_count": 15,
     "metadata": {},
     "output_type": "execute_result"
    }
   ],
   "source": [
    "rvec = r[1]\n",
    "tvec = r[2]\n",
    "tvec"
   ]
  },
  {
   "cell_type": "code",
   "execution_count": 16,
   "metadata": {},
   "outputs": [],
   "source": [
    "(pt, jac) = cv2.projectPoints(np.array([(0,0.0,0.0),(1.0, 0.0, 0.0),(0.0, 1.0, 0.0),(0.0, 0.0, 1.0)]), rvec, tvec, mtx, dist)"
   ]
  },
  {
   "cell_type": "code",
   "execution_count": 17,
   "metadata": {},
   "outputs": [
    {
     "data": {
      "text/plain": [
       "array([[[342, 292]],\n",
       "\n",
       "       [[339, 357]],\n",
       "\n",
       "       [[411, 300]],\n",
       "\n",
       "       [[353, 254]]])"
      ]
     },
     "execution_count": 17,
     "metadata": {},
     "output_type": "execute_result"
    }
   ],
   "source": [
    "pt = pt.astype(int)\n",
    "pt"
   ]
  },
  {
   "cell_type": "code",
   "execution_count": 18,
   "metadata": {},
   "outputs": [
    {
     "name": "stdout",
     "output_type": "stream",
     "text": [
      "(342, 292)\n",
      "(339, 357)\n",
      "(411, 300)\n",
      "(353, 254)\n"
     ]
    },
    {
     "data": {
      "image/png": "[encoded data removed]",
      "text/plain": [
       "<Figure size 432x288 with 1 Axes>"
      ]
     },
     "metadata": {
      "needs_background": "light"
     },
     "output_type": "display_data"
    }
   ],
   "source": [
    "img3 = cv2.cvtColor(edged,cv2.COLOR_GRAY2RGB)\n",
    "lines = [(255,0,0), (0,255,0), (0,0,255)]\n",
    "\n",
    "print(tuple(pt[0][0]))\n",
    "\n",
    "i = 0\n",
    "for point in pt[1:4]:\n",
    "    o = pt[0][0]\n",
    "    print(tuple(point[0]))\n",
    "    cv2.line(img3, tuple(o), tuple(point[0]), lines[i], 3)\n",
    "    i+=1\n",
    "    \n",
    "plt.imshow(img3)\n",
    "plt.show()"
   ]
  },
  {
   "cell_type": "code",
   "execution_count": 19,
   "metadata": {},
   "outputs": [
    {
     "data": {
      "text/plain": [
       "{'Pole.001': {'diffuse': [0.10000000149011612,\n",
       "   0.10000000149011612,\n",
       "   0.10000000149011612],\n",
       "  'modelmat': '<Matrix 4x4 (-0.0000, -1.0000, 0.0000, -0.5941)\\n            ( 1.0000, -0.0000, 0.0000,  0.5007)\\n            ( 0.0000,  0.0000, 1.0000,  0.8305)\\n            ( 0.0000,  0.0000, 0.0000,  1.0000)>',\n",
       "  'maskpath': '/Users/will/projects/legoproj/data/combo1/masks/Pole_001.png',\n",
       "  'matname': 'Black.091'},\n",
       " 'Brick.002': {'diffuse': [0.5, 0.5, 0.5],\n",
       "  'modelmat': '<Matrix 4x4 ( 1.0000, 0.0010, 0.0000, -0.0278)\\n            (-0.0010, 1.0000, 0.0000, -1.9706)\\n            ( 0.0000, 0.0000, 1.0000,  0.4388)\\n            ( 0.0000, 0.0000, 0.0000,  1.0000)>',\n",
       "  'maskpath': '/Users/will/projects/legoproj/data/combo1/masks/Brick_002.png',\n",
       "  'matname': 'Gray.091'},\n",
       " 'WingR.001': {'diffuse': [0.800000011920929,\n",
       "   0.800000011920929,\n",
       "   0.800000011920929],\n",
       "  'modelmat': '<Matrix 4x4 (1.0000, 0.0000, 0.0000,  0.0000)\\n            (0.0000, 1.0000, 0.0000, -2.2571)\\n            (0.0000, 0.0000, 1.0000,  0.0000)\\n            (0.0000, 0.0000, 0.0000,  1.0000)>',\n",
       "  'maskpath': '/Users/will/projects/legoproj/data/combo1/masks/WingR_001.png',\n",
       "  'matname': 'LightGray.091'},\n",
       " 'Pole.002': {'diffuse': [0.10000000149011612,\n",
       "   0.10000000149011612,\n",
       "   0.10000000149011612],\n",
       "  'modelmat': '<Matrix 4x4 (-0.0000, -1.0000, 0.0000, -0.5941)\\n            ( 1.0000, -0.0000, 0.0000,  4.0383)\\n            ( 0.0000,  0.0000, 1.0000,  0.4711)\\n            ( 0.0000,  0.0000, 0.0000,  1.0000)>',\n",
       "  'maskpath': '/Users/will/projects/legoproj/data/combo1/masks/Pole_002.png',\n",
       "  'matname': 'Black.091'},\n",
       " 'WingL': {'diffuse': [0.800000011920929,\n",
       "   0.800000011920929,\n",
       "   0.800000011920929],\n",
       "  'modelmat': '<Matrix 4x4 (1.0000, 0.0000, 0.0000, 0.0000)\\n            (0.0000, 1.0000, 0.0000, 2.3026)\\n            (0.0000, 0.0000, 1.0000, 0.0000)\\n            (0.0000, 0.0000, 0.0000, 1.0000)>',\n",
       "  'maskpath': '/Users/will/projects/legoproj/data/combo1/masks/WingL.png',\n",
       "  'matname': 'LightGray.091'},\n",
       " 'Pole.003': {'diffuse': [0.10000000149011612,\n",
       "   0.10000000149011612,\n",
       "   0.10000000149011612],\n",
       "  'modelmat': '<Matrix 4x4 (-0.0000, -1.0000, 0.0000,  0.0401)\\n            ( 1.0000, -0.0000, 0.0000, -0.7659)\\n            ( 0.0000,  0.0000, 1.0000,  0.3724)\\n            ( 0.0000,  0.0000, 0.0000,  1.0000)>',\n",
       "  'maskpath': '/Users/will/projects/legoproj/data/combo1/masks/Pole_003.png',\n",
       "  'matname': 'Black.091'},\n",
       " 'Brick.001': {'diffuse': [0.5, 0.5, 0.5],\n",
       "  'modelmat': '<Matrix 4x4 (-0.0000, -1.0000, 0.0000, -0.5727)\\n            ( 1.0000, -0.0000, 0.0000,  0.0000)\\n            ( 0.0000,  0.0000, 1.0000,  0.4388)\\n            ( 0.0000,  0.0000, 0.0000,  1.0000)>',\n",
       "  'maskpath': '/Users/will/projects/legoproj/data/combo1/masks/Brick_001.png',\n",
       "  'matname': 'Gray.091'}}"
      ]
     },
     "execution_count": 19,
     "metadata": {},
     "output_type": "execute_result"
    }
   ],
   "source": [
    "data = {}\n",
    "name = \"combo1\"\n",
    "file = \"/Users/will/projects/legoproj/data/{}/{}.json\".format(name,name)\n",
    "img = \"/Users/will/projects/legoproj/data/{}/{}.png\".format(name,name)\n",
    "img = cv2.imread(img)\n",
    "with open(file) as json_file:\n",
    "        data = json.load(json_file)\n",
    "data[\"objects\"]"
   ]
  },
  {
   "cell_type": "code",
   "execution_count": 20,
   "metadata": {},
   "outputs": [
    {
     "data": {
      "image/png": "[encoded data removed]",
      "text/plain": [
       "<Figure size 432x288 with 1 Axes>"
      ]
     },
     "metadata": {
      "needs_background": "light"
     },
     "output_type": "display_data"
    }
   ],
   "source": [
    "plt.imshow(img)\n",
    "plt.show()"
   ]
  },
  {
   "cell_type": "code",
   "execution_count": 21,
   "metadata": {},
   "outputs": [],
   "source": [
    "img = mu.showComboMask(img, data, \"Brick.001\")"
   ]
  },
  {
   "cell_type": "code",
   "execution_count": 22,
   "metadata": {},
   "outputs": [
    {
     "data": {
      "image/png": "[encoded data removed]",
      "text/plain": [
       "<Figure size 432x288 with 1 Axes>"
      ]
     },
     "metadata": {
      "needs_background": "light"
     },
     "output_type": "display_data"
    }
   ],
   "source": [
    "plt.imshow(img)\n",
    "plt.show()"
   ]
  },
  {
   "cell_type": "code",
   "execution_count": 23,
   "metadata": {},
   "outputs": [
    {
     "name": "stdout",
     "output_type": "stream",
     "text": [
      "(512, 512)\n"
     ]
    },
    {
     "data": {
      "image/png": "[encoded data removed]",
      "text/plain": [
       "<Figure size 432x288 with 1 Axes>"
      ]
     },
     "metadata": {
      "needs_background": "light"
     },
     "output_type": "display_data"
    }
   ],
   "source": [
    "gray = cv2.cvtColor(img,cv2.COLOR_BGR2GRAY)\n",
    "print(gray.shape)\n",
    "\n",
    "for i in range(512):\n",
    "    for j in range(512):\n",
    "        if gray[i][j] == 0:\n",
    "            gray[i][j] = 255\n",
    "\n",
    "status, thresh = cv2.threshold(gray, 240, 255, cv2.THRESH_BINARY_INV)\n",
    "            \n",
    "contours, hierarchy = cv2.findContours(thresh, cv2.RETR_LIST, cv2.CHAIN_APPROX_SIMPLE)            \n",
    "\n",
    "#dst = cv2.cornerHarris(gray,5,5,0.05)\n",
    "#dst = cv2.dilate(dst,None)\n",
    "# Threshold for an optimal value, it may vary depending on the image.\n",
    "#img[dst>0.01*dst.max()]=[0,0,255]\n",
    "#gray = cv2.bilateralFilter(gray, 11, 17, 17)\n",
    "\"\"\"\n",
    "edged = cv2.Canny(gray, 30, 100)\n",
    "\n",
    "\n",
    "corners = cv2.goodFeaturesToTrack(gray,25,0.01,10)\n",
    "corners = np.int0(corners)\n",
    "\n",
    "for i in corners:\n",
    "    x,y = i.ravel()\n",
    "    cv2.circle(gray,(x,y),3,3,3)\n",
    "\"\"\"\n",
    "\n",
    "\n",
    "plt.imshow(thresh, cmap='gray')\n",
    "plt.show()"
   ]
  },
  {
   "cell_type": "code",
   "execution_count": 24,
   "metadata": {},
   "outputs": [
    {
     "data": {
      "text/plain": [
       "[array([[[230, 220]],\n",
       " \n",
       "        [[228, 222]],\n",
       " \n",
       "        [[228, 227]],\n",
       " \n",
       "        [[227, 228]],\n",
       " \n",
       "        [[205, 228]],\n",
       " \n",
       "        [[204, 229]],\n",
       " \n",
       "        [[203, 229]],\n",
       " \n",
       "        [[202, 228]],\n",
       " \n",
       "        [[189, 228]],\n",
       " \n",
       "        [[188, 229]],\n",
       " \n",
       "        [[188, 255]],\n",
       " \n",
       "        [[197, 264]],\n",
       " \n",
       "        [[198, 264]],\n",
       " \n",
       "        [[201, 267]],\n",
       " \n",
       "        [[203, 267]],\n",
       " \n",
       "        [[204, 266]],\n",
       " \n",
       "        [[205, 266]],\n",
       " \n",
       "        [[206, 265]],\n",
       " \n",
       "        [[208, 265]],\n",
       " \n",
       "        [[209, 264]],\n",
       " \n",
       "        [[215, 270]],\n",
       " \n",
       "        [[216, 270]],\n",
       " \n",
       "        [[227, 281]],\n",
       " \n",
       "        [[226, 282]],\n",
       " \n",
       "        [[224, 282]],\n",
       " \n",
       "        [[222, 284]],\n",
       " \n",
       "        [[222, 288]],\n",
       " \n",
       "        [[225, 291]],\n",
       " \n",
       "        [[227, 291]],\n",
       " \n",
       "        [[228, 292]],\n",
       " \n",
       "        [[228, 294]],\n",
       " \n",
       "        [[230, 296]],\n",
       " \n",
       "        [[231, 296]],\n",
       " \n",
       "        [[234, 299]],\n",
       " \n",
       "        [[242, 299]],\n",
       " \n",
       "        [[243, 298]],\n",
       " \n",
       "        [[243, 292]],\n",
       " \n",
       "        [[244, 291]],\n",
       " \n",
       "        [[258, 291]],\n",
       " \n",
       "        [[259, 290]],\n",
       " \n",
       "        [[259, 284]],\n",
       " \n",
       "        [[260, 283]],\n",
       " \n",
       "        [[274, 283]],\n",
       " \n",
       "        [[275, 282]],\n",
       " \n",
       "        [[275, 255]],\n",
       " \n",
       "        [[272, 255]],\n",
       " \n",
       "        [[270, 257]],\n",
       " \n",
       "        [[270, 260]],\n",
       " \n",
       "        [[268, 262]],\n",
       " \n",
       "        [[266, 262]],\n",
       " \n",
       "        [[265, 261]],\n",
       " \n",
       "        [[265, 257]],\n",
       " \n",
       "        [[262, 254]],\n",
       " \n",
       "        [[261, 254]],\n",
       " \n",
       "        [[257, 250]],\n",
       " \n",
       "        [[256, 250]],\n",
       " \n",
       "        [[253, 247]],\n",
       " \n",
       "        [[254, 246]],\n",
       " \n",
       "        [[255, 246]],\n",
       " \n",
       "        [[256, 245]],\n",
       " \n",
       "        [[258, 245]],\n",
       " \n",
       "        [[259, 244]],\n",
       " \n",
       "        [[260, 244]],\n",
       " \n",
       "        [[259, 243]],\n",
       " \n",
       "        [[259, 236]],\n",
       " \n",
       "        [[252, 236]],\n",
       " \n",
       "        [[251, 235]],\n",
       " \n",
       "        [[251, 229]],\n",
       " \n",
       "        [[250, 228]],\n",
       " \n",
       "        [[244, 228]],\n",
       " \n",
       "        [[243, 227]],\n",
       " \n",
       "        [[243, 222]],\n",
       " \n",
       "        [[241, 220]]], dtype=int32)]"
      ]
     },
     "execution_count": 24,
     "metadata": {},
     "output_type": "execute_result"
    }
   ],
   "source": [
    "contours"
   ]
  },
  {
   "cell_type": "code",
   "execution_count": 25,
   "metadata": {},
   "outputs": [
    {
     "data": {
      "image/png": "[encoded data removed]",
      "text/plain": [
       "<Figure size 432x288 with 1 Axes>"
      ]
     },
     "metadata": {
      "needs_background": "light"
     },
     "output_type": "display_data"
    },
    {
     "data": {
      "text/plain": [
       "1"
      ]
     },
     "execution_count": 25,
     "metadata": {},
     "output_type": "execute_result"
    }
   ],
   "source": [
    "img1 = cv2.cvtColor(gray,cv2.COLOR_GRAY2RGB)\n",
    "\n",
    "num = len(contours)\n",
    "bbox =None\n",
    "for i in range(num):\n",
    "    one = math.floor(i/num * 255)\n",
    "    other = 255 - one\n",
    "    #b = 150 if i % 2 else 20\n",
    "    cur = contours[i]\n",
    "    bbox = cv2.minAreaRect(cur)\n",
    "    bbox = cv2.boxPoints(bbox)\n",
    "    bbox = np.intp(bbox) #np.intp: Integer used for indexing (same as C ssize_t; normally either int32 or int64)\n",
    "    #cv2.drawContours(drawing, [bbox], 0, color)\n",
    "    #hull = cv2.convexHull(cur)\n",
    "    #cv2.drawContours(img1, [bbox], 0, (one, other, 255), 2)\n",
    "\n",
    " \n",
    "plt.imshow(img1)\n",
    "plt.show()\n",
    "num"
   ]
  },
  {
   "cell_type": "code",
   "execution_count": 26,
   "metadata": {},
   "outputs": [
    {
     "data": {
      "text/plain": [
       "array([[246, 311],\n",
       "       [174, 242],\n",
       "       [218, 197],\n",
       "       [290, 266]])"
      ]
     },
     "execution_count": 26,
     "metadata": {},
     "output_type": "execute_result"
    }
   ],
   "source": [
    "bbox"
   ]
  },
  {
   "cell_type": "code",
   "execution_count": 27,
   "metadata": {},
   "outputs": [],
   "source": [
    "img2 = cv2.cvtColor(img1,cv2.COLOR_BGR2HSV)"
   ]
  },
  {
   "cell_type": "code",
   "execution_count": 28,
   "metadata": {},
   "outputs": [
    {
     "data": {
      "text/plain": [
       "<matplotlib.image.AxesImage at 0x11e7a1c18>"
      ]
     },
     "execution_count": 28,
     "metadata": {},
     "output_type": "execute_result"
    },
    {
     "data": {
      "image/png": "[encoded data removed]",
      "text/plain": [
       "<Figure size 432x288 with 1 Axes>"
      ]
     },
     "metadata": {
      "needs_background": "light"
     },
     "output_type": "display_data"
    }
   ],
   "source": [
    "plt.imshow(img1, cmap=\"hsv\")"
   ]
  },
  {
   "cell_type": "code",
   "execution_count": 29,
   "metadata": {},
   "outputs": [
    {
     "data": {
      "image/png": "[encoded data removed]",
      "text/plain": [
       "<Figure size 432x288 with 1 Axes>"
      ]
     },
     "metadata": {
      "needs_background": "light"
     },
     "output_type": "display_data"
    }
   ],
   "source": [
    "gray1 = cv2.cvtColor(img1,cv2.COLOR_HSV2RGB)\n",
    "gray1 = cv2.cvtColor(gray1,cv2.COLOR_RGB2GRAY)\n",
    "\n",
    "#gray1 = cv2.bilateralFilter(gray1, 11, 17, 17)\n",
    "\n",
    "plt.imshow(gray1, cmap=\"gray\")\n",
    "plt.show()\n",
    "#edged = cv2.Canny(gray, 30, 200)"
   ]
  },
  {
   "cell_type": "code",
   "execution_count": 30,
   "metadata": {},
   "outputs": [
    {
     "data": {
      "image/png": "[encoded data removed]",
      "text/plain": [
       "<Figure size 432x288 with 1 Axes>"
      ]
     },
     "metadata": {
      "needs_background": "light"
     },
     "output_type": "display_data"
    }
   ],
   "source": [
    "edged1 = cv2.Canny(gray1, 10, 60)\n",
    "\n",
    "kernel = np.ones((2,2), np.uint8) \n",
    "edged1 = cv2.dilate(edged1, kernel, iterations=2) \n",
    "\n",
    "plt.imshow(edged1, cmap=\"gray\")\n",
    "plt.show()"
   ]
  },
  {
   "cell_type": "code",
   "execution_count": 31,
   "metadata": {},
   "outputs": [
    {
     "data": {
      "image/png": "[encoded data removed]",
      "text/plain": [
       "<Figure size 432x288 with 1 Axes>"
      ]
     },
     "metadata": {
      "needs_background": "light"
     },
     "output_type": "display_data"
    }
   ],
   "source": [
    "edged2 = cv2.bilateralFilter(edged1, 11, 17, 17)\n",
    "\n",
    "plt.imshow(edged2, cmap=\"gray\")\n",
    "plt.show()\n"
   ]
  },
  {
   "cell_type": "code",
   "execution_count": null,
   "metadata": {},
   "outputs": [],
   "source": []
  }
 ],
 "metadata": {
  "kernelspec": {
   "display_name": "Python 3",
   "language": "python",
   "name": "python3"
  },
  "language_info": {
   "codemirror_mode": {
    "name": "ipython",
    "version": 3
   },
   "file_extension": ".py",
   "mimetype": "text/x-python",
   "name": "python",
   "nbconvert_exporter": "python",
   "pygments_lexer": "ipython3",
   "version": "3.7.3"
  }
 },
 "nbformat": 4,
 "nbformat_minor": 2
}
